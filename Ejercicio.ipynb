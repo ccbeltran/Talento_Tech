{
  "nbformat": 4,
  "nbformat_minor": 0,
  "metadata": {
    "colab": {
      "provenance": [],
      "authorship_tag": "ABX9TyNnsliOi2JcOK6kh7Sb0EBJ",
      "include_colab_link": true
    },
    "kernelspec": {
      "name": "python3",
      "display_name": "Python 3"
    },
    "language_info": {
      "name": "python"
    }
  },
  "cells": [
    {
      "cell_type": "markdown",
      "metadata": {
        "id": "view-in-github",
        "colab_type": "text"
      },
      "source": [
        "<a href=\"https://colab.research.google.com/github/ccbeltran/Talento_Tech/blob/main/Ejercicio.ipynb\" target=\"_parent\"><img src=\"https://colab.research.google.com/assets/colab-badge.svg\" alt=\"Open In Colab\"/></a>"
      ]
    },
    {
      "cell_type": "code",
      "execution_count": 11,
      "metadata": {
        "colab": {
          "base_uri": "https://localhost:8080/"
        },
        "id": "QmUDf61dyGGv",
        "outputId": "24445e7a-ea4d-4618-e8d3-cba17f4bb555"
      },
      "outputs": [
        {
          "output_type": "stream",
          "name": "stdout",
          "text": [
            "Ingrese números de lados:4\n",
            "Ingrese la longitud de cada lado:5\n",
            "El área del polígono es: 25.0\n"
          ]
        }
      ],
      "source": [
        "from math import tan\n",
        "def area_poligono_regular(numLados, longLado):\n",
        "    ang = 3.1416 / numLados\n",
        "    a = longLado / (2*tan(ang))\n",
        "    P = numLados * longLado\n",
        "    A = P*a/2\n",
        "    return A\n",
        "\n",
        "\n",
        "N = int(input('Ingrese números de lados:'))\n",
        "L = float(input('Ingrese la longitud de cada lado:'))\n",
        "res = area_poligono_regular(N, L)\n",
        "print('El área del polígono es:', round(res,2))"
      ]
    }
  ]
}