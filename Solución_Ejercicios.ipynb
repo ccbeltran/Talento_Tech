{
  "nbformat": 4,
  "nbformat_minor": 0,
  "metadata": {
    "colab": {
      "provenance": [],
      "include_colab_link": true
    },
    "kernelspec": {
      "name": "python3",
      "display_name": "Python 3"
    }
  },
  "cells": [
    {
      "cell_type": "markdown",
      "metadata": {
        "id": "view-in-github",
        "colab_type": "text"
      },
      "source": [
        "<a href=\"https://colab.research.google.com/github/ccbeltran/Talento_Tech/blob/main/Soluci%C3%B3n_Ejercicios.ipynb\" target=\"_parent\"><img src=\"https://colab.research.google.com/assets/colab-badge.svg\" alt=\"Open In Colab\"/></a>"
      ]
    },
    {
      "cell_type": "markdown",
      "source": [
        "### __Cálculo de la moda__\n",
        "\n",
        "__Definición de moda estadística__\n",
        "\n",
        "La moda es el valor que tiene mayor frecuencia absoluta en una muestra de datos, y se representa como: $M_o$. Se puede hallar la moda para variables cualitativas y cuantitativas. Las siguientes son las reglas que se asocian al cálculo de la moda:\n",
        "\n",
        "- Si en un grupo hay dos o varias puntuaciones con la misma frecuencia y esa frecuencia es la máxima, entonces la distribución es bimodal  (en caso de que sean 2 valores) o multimodal (en caso de que existan mas de 2), es decir, tiene varias modas.\n",
        "- Cuando todas las puntuaciones de un grupo tienen la misma frecuencia, no hay moda.\n",
        "- Si dos puntuaciones adyacentes tienen la frecuencia máxima, la moda es el promedio de las dos puntuaciones adyacentes.\n",
        "\n",
        "Fuente de información: [moda estadística](https://www.superprof.es/apuntes/escolar/matematicas/estadistica/descriptiva/moda-estadistica.html)\n",
        "\n",
        "#### __Ejemplos:__\n",
        "1. La moda de : `ex1 = [2,3,3,4,4,4,5,5]` <br> es: $M_o = 4$\n",
        "1. La moda de : `ex2 = [1,1,1,4,4,5,5,5,7,8,9,9,9]` <br> es: $M_o = 1,5,9$\n",
        "1. La moda de : `ex3 = [2,2,3,3,6,6,9,9]` <br> es: $M_o = indef$\n",
        "1. La moda de : `ex4 = [0,1,3,3,5,5,7,8]` <br> es: $M_o = 4$\n",
        "\n",
        "#### __Algoritmo moda de valores__\n",
        "\n",
        "- ordenar el vector $x$\n",
        "- recorrer cada elemento de $x$  \n",
        "    - si el valor esta en vals obtener índice y sumar uno a esa posición\n",
        "    - sino el valor es nuevo entonces, agregar valor a vals y poner su frecuencia en uno\n",
        "- hallar la máxima frecuencia\n",
        "- contar veces que aparece la máxima frecuencia\n",
        "- Si la cantidad de máxima frecuencia es uno, retorne el valor con el índice de máxima frecuencia\n",
        "- Si la cantidad de máximas frecuencias es N, retorne no es un número\n",
        "- Si la cantidad de máximas frecuencias es 2 y son adyacentes, retorne el promedio de los valores adyacentes con máxima frecuencia\n",
        "- Sino retorne un vector con los valores que tienen máxima frecuencia\n"
      ],
      "metadata": {
        "id": "qXnR_dBDbta4"
      }
    },
    {
      "cell_type": "code",
      "metadata": {
        "id": "BnQyV_qZmmA-",
        "colab": {
          "base_uri": "https://localhost:8080/"
        },
        "outputId": "e5029c95-67b7-4496-8131-0da52ee0f347"
      },
      "source": [
        "# Celda de código para probar\n",
        "ex1 = [2, 3, 3, 4, 4, 4, 5, 5]\n",
        "ex2 = [1, 1, 1, 4, 4, 5, 5, 5, 7, 8, 9, 9, 9]\n",
        "ex3 = [2, 2, 3, 3, 6, 6, 9, 9]\n",
        "ex4 = [0, 1, 3, 3, 5, 5, 7, 8]\n",
        "def contar_frecuencias(datos):\n",
        "    valores = []\n",
        "    frecuencias = []\n",
        "\n",
        "    for valor in datos:\n",
        "        if valor in valores:\n",
        "            index = valores.index(valor)\n",
        "            frecuencias[index] += 1\n",
        "        else:\n",
        "            valores.append(valor)\n",
        "            frecuencias.append(1)\n",
        "\n",
        "    return valores, frecuencias\n",
        "\n",
        "def calcular_moda(datos):\n",
        "    datos_ordenados = sorted(datos)\n",
        "    valores, frecuencias = contar_frecuencias(datos_ordenados)\n",
        "    max_frecuencia = max(frecuencias)\n",
        "\n",
        "    modas = [valores[i] for i in range(len(frecuencias)) if frecuencias[i] == max_frecuencia]\n",
        "\n",
        "    # Determinar el resultado según las reglas dadas\n",
        "    if len(modas) == 1:\n",
        "        return modas[0]\n",
        "    elif len(modas) > 2:\n",
        "        return modas\n",
        "    elif len(modas) == 2:\n",
        "        if abs(modas[0] - modas[1]) == 1:\n",
        "            return (modas[0] + modas[1]) / 2\n",
        "        else:\n",
        "            return modas\n",
        "    else:\n",
        "        return \"indef\"\n",
        "\n",
        "print(f\"La moda de ex1 es: {calcular_moda(ex1)}\")\n",
        "print(f\"La moda de ex2 es: {calcular_moda(ex2)}\")\n",
        "print(f\"La moda de ex3 es: {calcular_moda(ex3)}\")\n",
        "print(f\"La moda de ex4 es: {calcular_moda(ex4)}\")"
      ],
      "execution_count": null,
      "outputs": [
        {
          "output_type": "stream",
          "name": "stdout",
          "text": [
            "La moda de ex1 es: 4\n",
            "La moda de ex2 es: [1, 5, 9]\n",
            "La moda de ex3 es: [2, 3, 6, 9]\n",
            "La moda de ex4 es: [3, 5]\n"
          ]
        }
      ]
    },
    {
      "cell_type": "markdown",
      "source": [],
      "metadata": {
        "id": "y9zyGf-MbQ-S"
      }
    },
    {
      "cell_type": "markdown",
      "metadata": {
        "id": "Q1ad3jj4qiiZ"
      },
      "source": [
        "### __Problema de las votaciones__\n",
        "\n",
        "A continuación tenemos loa resultados de conteo por mesas en formato de  diccionario con el nombre del candidato y el número de votos que le corresponde. El objetivo es contar la votación de cada candidato para saber como proceder de acuerdo con las siguientes reglas:\n",
        "\n",
        "1. Si el voto en blanco consigue la mayor votación se debe convocar otras elecciones con otros candidatos\n",
        "2. Si un candidato supera más del 50% de la votación, quitando los votos en blanco. Gana las elecciones\n",
        "3. Si no se cumple la condición 1 y 2, entonces los dos candidatos con mayor votación pasan a una segunda vuelta.\n",
        "\n",
        "Hacer un programa que determine cual es el resultado final de las elecciones de acuerdo con las reglas establecidas siguiendo los pasos del pensamiento computacional.\n",
        "\n"
      ]
    },
    {
      "cell_type": "code",
      "metadata": {
        "id": "HeIyTF_Gqv5a",
        "colab": {
          "base_uri": "https://localhost:8080/"
        },
        "outputId": "7de0cd7d-3024-4b78-886b-dce41ae2b183"
      },
      "source": [
        "mesa1 = {'José Arcadio': 101, 'Aureliano': 75, 'Úrsula': 143, 'Amaranta': 56, 'Rebeca': 9, 'blanco': 46}\n",
        "mesa2 = {'Aureliano': 235, 'Úrsula': 192, 'Amaranta': 21, 'Rebeca': 11, 'blanco': 36}\n",
        "mesa3 = {'Obama': 4, 'Úrsula': 96, 'Amaranta': 33, 'Rebeca': 4, 'blanco': 12}\n",
        "mesa4 = {'Piero': 322, 'Aureliano': 63, 'Úrsula': 81, 'Obama': 16, 'blanco': 120}\n",
        "mesa5 = {'José Arcadio': 18, 'Aureliano': 221, 'Úrsula': 156, 'Amaranta': 22, 'blanco': 244, 'Rebeca': 27, 'Piero': 2}\n",
        "# Lista de mesas\n",
        "#suma de mesas\n",
        "\n",
        "votos_totales = {}\n",
        "mesas = [mesa1, mesa2, mesa3, mesa4, mesa5]\n",
        "for mesa in mesas:\n",
        " #   print(mesa)\n",
        "#     mesa = mesas()\n",
        "    for candidato, votos in mesa.items():\n",
        "        #print(\"nombre\": candidato, \"votos\": , votos)\n",
        "#         print(candidato,\n",
        "#         votos = mesa [candidato]\n",
        "         if candidato in votos_totales:\n",
        "            votos_totales[candidato] += votos\n",
        "         else:\n",
        "           votos_totales[candidato] = votos\n",
        "\n",
        "acum_votos = 0\n",
        "for candidato, votos in votos_totales.items():\n",
        "    acum_votos += votos\n",
        "#    print(candidato, votos, acum_votos)\n",
        "\n",
        "blancos = votos_totales[\"blanco\"]\n",
        "for candidato, votos in votos_totales.items():\n",
        "    print(candidato, votos, round(votos/(acum_votos-blancos)*100,1),\"%\")\n",
        "\n",
        "if blancos > acum_votos/2:\n",
        "    print(\"Se debe realizar otra elección\")\n",
        "else:\n",
        "    votos_ordenados = sorted(votos_totales.items(), key=lambda x: x[1], reverse=True)\n",
        "    if len(votos_ordenados)>1:\n",
        "        candidatos_segunda_vuelta= votos_ordenados [:2]\n",
        "        print(f\" Segunda Vuelta entre: {candidatos_segunda_vuelta[0][0]} y {candidatos_segunda_vuelta[1][0]} \")\n",
        "        for candidato, votos in votos_ordenados:\n",
        "            if votos > 0.50*(acum_votos-blancos):\n",
        "             print(\"Ganador es:\")\n",
        "             print(candidato, votos, round(votos/(acum_votos-blancos)*100,1),\"%\")"
      ],
      "execution_count": null,
      "outputs": [
        {
          "output_type": "stream",
          "name": "stdout",
          "text": [
            "José Arcadio 119 6.2 %\n",
            "Aureliano 594 31.1 %\n",
            "Úrsula 668 35.0 %\n",
            "Amaranta 132 6.9 %\n",
            "Rebeca 51 2.7 %\n",
            "blanco 458 24.0 %\n",
            "Obama 20 1.0 %\n",
            "Piero 324 17.0 %\n",
            " Segunda Vuelta entre: Úrsula y Aureliano \n"
          ]
        }
      ]
    },
    {
      "cell_type": "markdown",
      "metadata": {
        "id": "GnXTX0tYm3nt"
      },
      "source": [
        "### __Billetes y monedas__\n",
        "\n",
        "> - El objetivo es recibir un valor monetario que sea múltiplo de 100. Luego de esto, calcular el menor número posible de billetes y monedas en los cuales su valor puede ser descompuesto. Los billetes a tener en cuenta son de 50000, 20000, 10000, 5000 y 2000. Las monedas posibles son de 1000, 500, 200, y 100.Diseñar un algoritmo que reciba una cantidad monetaria e imprima una serie de valores el valor del billete o moneda acompañadp de la cantidad que se requiere para completar el valor solicitado.\n",
        "- Pruebas:\n",
        "\n",
        "| Entrada | Salida\n",
        "| :---: |---\n",
        "| 41200 | 20000 2 1000 1 200 1\n",
        "| 188600 | 50000 3 20000 1 10000 1 5000 1 2000 1 1000 1 500 1 100 1\n",
        "| 400900 | 50000 8 500 1 200 2\n",
        "| 1300 | 1000 1 200 1 100 1\n",
        "| 350000 | 50000 7\n",
        "\n"
      ]
    },
    {
      "cell_type": "code",
      "source": [
        "def descomponer_cantidad(cantidad):\n",
        "    if cantidad % 100 != 0:\n",
        "        # print(\"La cantidad debe ser un múltiplo de 100.\")\n",
        "        return\n",
        "\n",
        "    billetes = [50000, 20000, 10000, 5000, 2000]\n",
        "    monedas = [1000, 500, 200, 100]\n",
        "    descomposicion = {}\n",
        "\n",
        "    for billete in billetes:\n",
        "        if cantidad >= billete:\n",
        "            cantidad_billete = cantidad // billete\n",
        "            cantidad %= billete\n",
        "            descomposicion[billete] = cantidad_billete\n",
        "\n",
        "    for moneda in monedas:\n",
        "        if cantidad >= moneda:\n",
        "            cantidad_moneda = cantidad // moneda\n",
        "            cantidad %= moneda\n",
        "            descomposicion[moneda] = cantidad_moneda\n",
        "\n",
        "    for valor, cantidad in descomposicion.items():\n",
        "        print(f\"Valor: {valor}, Cantidad: {cantidad}\")\n",
        "\n",
        "# prueba\n",
        "descomponer_cantidad(41200)"
      ],
      "metadata": {
        "id": "LE4rQAP2ecgU",
        "colab": {
          "base_uri": "https://localhost:8080/"
        },
        "outputId": "63c48b01-7569-4417-990a-9d213395ff90"
      },
      "execution_count": null,
      "outputs": [
        {
          "output_type": "stream",
          "name": "stdout",
          "text": [
            "Valor: 20000, Cantidad: 2\n",
            "Valor: 1000, Cantidad: 1\n",
            "Valor: 200, Cantidad: 1\n"
          ]
        }
      ]
    },
    {
      "cell_type": "markdown",
      "source": [
        "### __Crecimiento de la población de conejos__\n",
        "\n",
        "Esta ecuación sirve para modelar, por ejemplo, el crecimiento de una población\n",
        "$$x_{n+1} = rx_n(1-x_n)$$\n",
        "\n",
        "Donde $x_n$ es un porcentaje de la población máxima actual y $X_{n+1}$ el porcentaje para el próximo año. El valor $r$ es la tasa de crecimiento que es fija.\n",
        "\n",
        "1. Haga una gráfica del porcentaje de población actual versus la población del año siguiente para cada punto porcentual recibiendo como parámetro un valor de $r$. (parábola invertida)\n",
        "\n",
        "2. Realiza una simulación de la población para varios periodos de tiempo, dejando una tasa fija. Analiza que pasa para valores de tasa $r = [2.5, 2.9, 3.3, 3.5, 3.56, 3.7]$ identifica a cuantos valores tiende cada valor de tasa dado.\n",
        "\n",
        "3. Genera un gráfico de la tasa versus el procentaje de población (no usar numpy). Ten en cuenta que par valores de tasa entre 3 y 4 pueden ocurrir más de un valor de población.\n",
        "\n",
        "video recomendado: [Esta ecuación cambiará tu forma de ver el mundo](https://www.youtube.com/watch?v=EOvLhZPevm0&t=912s)"
      ],
      "metadata": {
        "id": "PJ7oFtMshRrW"
      }
    },
    {
      "cell_type": "code",
      "source": [
        "# Celda de código para probar\n",
        "import matplotlib.pyplot as plt\n",
        "r = 2.9\n",
        "x = [i/100 for i in range (100)]\n",
        "y = [r*i*(1-i) for i in x]\n",
        "plt.plot(x,y)\n",
        "plt.xlabel('$X_n$')\n",
        "plt.ylabel('$X_{n+1}$')\n",
        "plt.title('Poblacion actual VS Poblacion siguiente')\n",
        "plt.show()\n"
      ],
      "metadata": {
        "id": "s32MBc4med8J",
        "colab": {
          "base_uri": "https://localhost:8080/",
          "height": 474
        },
        "outputId": "8aa30925-d641-4893-c3a4-de17104b05f9"
      },
      "execution_count": null,
      "outputs": [
        {
          "output_type": "display_data",
          "data": {
            "text/plain": [
              "<Figure size 640x480 with 1 Axes>"
            ],
            "image/png": "[encoded data removed]"
          },
          "metadata": {}
        }
      ]
    },
    {
      "cell_type": "code",
      "source": [
        "def logistica (r,x):\n",
        "    return r*x*(1-x)\n",
        "t = list(range(2000))\n",
        "x0 = 0.9\n",
        "r = 2\n",
        "xn =[]\n",
        "for i in t:\n",
        "    x0 = logistica(r,x0)\n",
        "    xn.append(x0)\n",
        "fig, ax = plt.subplots(figsize=(20,5))\n",
        "plt.plot(t,xn, \".-\")\n",
        "x1 = 0.05\n",
        "r = 3.4\n",
        "xn1 = []\n",
        "for i in t:\n",
        "    xn1.append(round(x1,10))\n",
        "    x1 = logistica(r,x1)\n",
        "plt.plot(t,xn1, \".-\")\n",
        "plt.ylim(0,1)\n",
        "plt.grid()\n",
        "unicos = set(xn1[1000:]) # para convertir los en conjunto\n",
        "unicos"
      ],
      "metadata": {
        "colab": {
          "base_uri": "https://localhost:8080/",
          "height": 371
        },
        "id": "1-p_DB207bAS",
        "outputId": "ceb03b71-eeae-4ffa-c2a4-ddcf0dbc245d"
      },
      "execution_count": null,
      "outputs": [
        {
          "output_type": "execute_result",
          "data": {
            "text/plain": [
              "{0.4519632476, 0.8421543994}"
            ]
          },
          "metadata": {},
          "execution_count": 13
        },
        {
          "output_type": "display_data",
          "data": {
            "text/plain": [
              "<Figure size 2000x500 with 1 Axes>"
            ],
            "image/png": "[encoded data removed]"
          },
          "metadata": {}
        }
      ]
    },
    {
      "cell_type": "code",
      "source": [
        "R =[]\n",
        "X= []\n",
        "x0 = 0.5\n",
        "for i in range (3000):\n",
        "    r= i/1000+1\n",
        "    xn =[]\n",
        "    for i in range(2000):\n",
        "        xn.append(x0)\n",
        "        x0 = logistica(r,x0)\n",
        "    unicos = set(xn[1000:])\n",
        "    for u in unicos:\n",
        "        R.append(r)\n",
        "        X.append(u)\n",
        "plt.subplots(figsize=(20,5))\n",
        "plt.plot(R,X, \",\")\n",
        "len(R)"
      ],
      "metadata": {
        "colab": {
          "base_uri": "https://localhost:8080/",
          "height": 366
        },
        "id": "_6v955_s7hXb",
        "outputId": "af35eceb-36c8-4ca2-93b0-048e968a7e6c"
      },
      "execution_count": null,
      "outputs": [
        {
          "output_type": "execute_result",
          "data": {
            "text/plain": [
              "463562"
            ]
          },
          "metadata": {},
          "execution_count": 54
        },
        {
          "output_type": "display_data",
          "data": {
            "text/plain": [
              "<Figure size 2000x500 with 1 Axes>"
            ],
            "image/png": "[encoded data removed]"
          },
          "metadata": {}
        }
      ]
    },
    {
      "cell_type": "markdown",
      "source": [
        "### __Acuerdo entre médicos__\n",
        "\n",
        "Un hospital está evaluando la precisión de dos radiólogos en la interpretación de radiografías de tórax para diagnosticar la presencia o ausencia de neumonía en pacientes. Cada radiólogo revisa las radiografías de N pacientes de forma independiente, y las clasifica en dos categorías: \"Neumonía\" o \"No Neumonía\".\n",
        "\n",
        "Los resultados de las clasificaciones de ambos radiólogos deben ser comparados para evaluar su nivel de acuerdo más allá de lo que podría esperarse por pura casualidad. Para ello, se te pide crear un algoritmo que calcule el coeficiente de kappa de Cohen, con el fin de determinar el grado de concordancia entre ambos profesionales.\n",
        "\n",
        "$$\\kappa = \\frac{p_0 - p_e}{1-p_e}$$\n",
        "\n",
        "Donde:\n",
        "\n",
        "$p_0$ es la proporción observada de acuerdo entre los radiólogos.\n",
        "\n",
        "$p_e$ es la proporción esperada de acuerdo por azar.\n",
        "\n",
        "El algoritmo debe imprimir el valor de kappa y determinar el nivel de acuerdo según la escala siguiente:\n",
        "\n",
        "- Kappa > 0.80: Excelente acuerdo.\n",
        "- Kappa entre 0.60 y 0.80: Buen acuerdo.\n",
        "- Kappa entre 0.40 y 0.60: Acuerdo moderado.\n",
        "- Kappa entre 0.20 y 0.40: Acuerdo pobre.\n",
        "- Kappa < 0.20: Acuerdo muy bajo."
      ],
      "metadata": {
        "id": "u_IpQgoim1RM"
      }
    },
    {
      "cell_type": "code",
      "source": [
        "m1 = [1,1,1,1,1,1,1,1,1,1,1,1,1,1,1,1,0,1,0,1,1,1,0,0,0]\n",
        "m2 = [1,0,1,1,0,1,0,1,0,1,0,1,0,1,1,0,0,1,1,0,1,0,1,1,0]\n",
        "N = len(m1)\n",
        "mc = [[0,0],[0,0]]\n",
        "for i in range(N):\n",
        "    mc[m1[i]][m2[i]] += 1\n",
        "p0= (mc[0][0]+mc[1][1])/N\n",
        "sumf = []\n",
        "for fila in mc:\n",
        "    sumf.append(sum(fila))\n",
        "sumf\n",
        "sumc = [0,0]\n",
        "for i in range(len(mc)):\n",
        "    for j in range (len(mc[i])):\n",
        "        sumc[j] += mc[i][j]\n",
        "print (mc, sumf,sumc)\n",
        "pe = (sumf[0]*sumc[0]+sumf[1]*sumc[1])/N**2\n",
        "kappa = (p0-pe)/(1-pe)\n",
        "kappa\n"
      ],
      "metadata": {
        "colab": {
          "base_uri": "https://localhost:8080/",
          "height": 211
        },
        "id": "VlSm7AShqC19",
        "outputId": "ec061bf6-89d6-4a4e-88e8-d1381805fe32"
      },
      "execution_count": 10,
      "outputs": [
        {
          "output_type": "error",
          "ename": "TypeError",
          "evalue": "'list' object is not callable",
          "traceback": [
            "\u001b[0;31m---------------------------------------------------------------------------\u001b[0m",
            "\u001b[0;31mTypeError\u001b[0m                                 Traceback (most recent call last)",
            "\u001b[0;32m<ipython-input-10-2d1d4b90d288>\u001b[0m in \u001b[0;36m<cell line: 9>\u001b[0;34m()\u001b[0m\n\u001b[1;32m      8\u001b[0m \u001b[0msumf\u001b[0m \u001b[0;34m=\u001b[0m \u001b[0;34m[\u001b[0m\u001b[0;34m]\u001b[0m\u001b[0;34m\u001b[0m\u001b[0;34m\u001b[0m\u001b[0m\n\u001b[1;32m      9\u001b[0m \u001b[0;32mfor\u001b[0m \u001b[0mfila\u001b[0m \u001b[0;32min\u001b[0m \u001b[0mmc\u001b[0m\u001b[0;34m:\u001b[0m\u001b[0;34m\u001b[0m\u001b[0;34m\u001b[0m\u001b[0m\n\u001b[0;32m---> 10\u001b[0;31m     \u001b[0msumf\u001b[0m\u001b[0;34m.\u001b[0m\u001b[0mappend\u001b[0m\u001b[0;34m(\u001b[0m\u001b[0msum\u001b[0m\u001b[0;34m(\u001b[0m\u001b[0mfila\u001b[0m\u001b[0;34m)\u001b[0m\u001b[0;34m)\u001b[0m\u001b[0;34m\u001b[0m\u001b[0;34m\u001b[0m\u001b[0m\n\u001b[0m\u001b[1;32m     11\u001b[0m \u001b[0msumf\u001b[0m\u001b[0;34m\u001b[0m\u001b[0;34m\u001b[0m\u001b[0m\n\u001b[1;32m     12\u001b[0m \u001b[0msumc\u001b[0m \u001b[0;34m=\u001b[0m \u001b[0;34m[\u001b[0m\u001b[0;36m0\u001b[0m\u001b[0;34m,\u001b[0m\u001b[0;36m0\u001b[0m\u001b[0;34m]\u001b[0m\u001b[0;34m\u001b[0m\u001b[0;34m\u001b[0m\u001b[0m\n",
            "\u001b[0;31mTypeError\u001b[0m: 'list' object is not callable"
          ]
        }
      ]
    },
    {
      "cell_type": "code",
      "source": [
        "# Celda de código para probar\n",
        "radiologo1 = [\"Neumonía\", \"No Neumonía\", \"Neumonía\" ] # lista del radiologo uno\n",
        "radiologo2 = [\"Neumonía\", \"Neumonía\", \"Neumonía\"] # lista del radiologo dos\n",
        "\n",
        "#def calcular_kappa(radiologo1, radiologo2): # Definir la función\n",
        "    #n = len(radiologo1) # Contar cuantos dianosticos hay en la lista del radiologo uno\n",
        "   #m = len(radiologo2) # # Contar cuantos dianosticos hay en la lista del radilogo dos\n",
        "\n",
        "# p0 es la proporción observada de acuerdo entre los radiólogos.\n",
        "acuerdos = 0\n",
        "n = len(radiologo1)\n",
        "for i in range(n):\n",
        "    if radiologo1[i] == radiologo2[i]:\n",
        "            acuerdos += 1\n",
        "p0 = acuerdos / n\n",
        "# pe es la proporción esperada de acuerdo por azar.\n",
        "#pe = sum()\n",
        "\n",
        "\n",
        "    # Calcular el coeficiente de kappa de Cohen\n",
        "    kappa = (p0 - pe) / (1 - pe)\n",
        "\n",
        "    # Determinar el nivel de acuerdo segun la escala establecida\n",
        "    if kappa > 0.80:\n",
        "        nivel_acuerdo = \"Excelente acuerdo\"\n",
        "    elif 0.60 < kappa <= 0.80:\n",
        "        nivel_acuerdo = \"Buen acuerdo\"\n",
        "    elif 0.40 < kappa <= 0.60:\n",
        "        nivel_acuerdo = \"Acuerdo moderado\"\n",
        "    elif 0.20 < kappa <= 0.40:\n",
        "        nivel_acuerdo = \"Acuerdo pobre\"\n",
        "    else:\n",
        "        nivel_acuerdo = \"Acuedo muy bajo\"\n",
        "\n",
        "    return kappa, nivel_acuerdo\n",
        "\n",
        "\n",
        "\n"
      ],
      "metadata": {
        "id": "5BccmpOueero",
        "colab": {
          "base_uri": "https://localhost:8080/",
          "height": 106
        },
        "outputId": "51ecadae-3499-4a04-8d5e-3919d36c23e6"
      },
      "execution_count": null,
      "outputs": [
        {
          "output_type": "error",
          "ename": "IndentationError",
          "evalue": "unexpected indent (<ipython-input-43-f7734d0b74a8>, line 21)",
          "traceback": [
            "\u001b[0;36m  File \u001b[0;32m\"<ipython-input-43-f7734d0b74a8>\"\u001b[0;36m, line \u001b[0;32m21\u001b[0m\n\u001b[0;31m    kappa = (p0 - pe) / (1 - pe)\u001b[0m\n\u001b[0m    ^\u001b[0m\n\u001b[0;31mIndentationError\u001b[0m\u001b[0;31m:\u001b[0m unexpected indent\n"
          ]
        }
      ]
    },
    {
      "cell_type": "code",
      "source": [
        "# Celda de código para probar\n",
        "radiologo1 = [\"Neumonía\", \"No Neumonía\", \"Neumonía\" ] # lista del radiologo uno\n",
        "radiologo2 = [\"Neumonía\", \"Neumonía\", \"Neumonía\"] # lista del radiologo dos\n",
        "\n",
        "def calcular_kappa(radiologo1, radiologo2): # Definir la función\n",
        "    n = len(radiologo1) # Contar cuantos dianosticos hay en la lista del radiologo uno\n",
        "    m = len(radiologo2) # # Contar cuantos dianosticos hay en la lista del radilogo dos\n",
        "\n",
        "# p0 es la proporción observada de acuerdo entre los radiólogos.\n",
        "    acuerdos = 0\n",
        "    n = len(radiologo1)\n",
        "    for i in range(n):\n",
        "        if radiologo1[i] == radiologo2[i]:\n",
        "                acuerdos += 1\n",
        "    p0 = acuerdos / n\n",
        "\n",
        "# p_e es la proporción esperada de acuerdo por azar.\n",
        "\n",
        "    pe = (sum(1 for i in range(n) if radiologo1[i] == \"Neumonía\") / n) * (sum(1 for i in range(m) if radiologo2[i] == \"Neumonía\") / m)\n",
        "\n",
        "\n",
        "    # Calcular el coeficiente de kappa de Cohen\n",
        "    kappa = (p0 - pe) / (1 - pe)\n",
        "\n",
        "    # Determinar el nivel de acuerdo segun la escala establecida\n",
        "    if kappa > 0.80:\n",
        "        nivel_acuerdo = \"Excelente acuerdo\"\n",
        "    elif 0.60 < kappa <= 0.80:\n",
        "        nivel_acuerdo = \"Buen acuerdo\"\n",
        "    elif 0.40 < kappa <= 0.60:\n",
        "        nivel_acuerdo = \"Acuerdo moderado\"\n",
        "    elif 0.20 < kappa <= 0.40:\n",
        "        nivel_acuerdo = \"Acuerdo pobre\"\n",
        "    else:\n",
        "        nivel_acuerdo = \"Acuedo muy bajo\"\n",
        "\n",
        "    return kappa, nivel_acuerdo\n",
        "\n",
        "kappa, nivel_acuerdo = calcular_kappa(radiologo1, radiologo2)\n",
        "print(f\"El coeficiente de kappa de Cohen es: {kappa}\")\n",
        "print(f\"El nivel de acuerdo es: {nivel_acuerdo}\")"
      ],
      "metadata": {
        "colab": {
          "base_uri": "https://localhost:8080/"
        },
        "id": "JGHUA9mJRTDf",
        "outputId": "67566305-5ce6-4656-afb8-a5d8e21cfcb1"
      },
      "execution_count": null,
      "outputs": [
        {
          "output_type": "stream",
          "name": "stdout",
          "text": [
            "El coeficiente de kappa de Cohen es: 0.0\n",
            "El nivel de acuerdo es: Acuedo muy bajo\n"
          ]
        }
      ]
    },
    {
      "cell_type": "markdown",
      "metadata": {
        "id": "S7PspYofz6z4"
      },
      "source": [
        "## __Ejercicios de Algoritmos de listas__\n",
        "\n",
        "> - Para los siguientes ejercicios no se deben utilizar funciones externas o de python. La idea es crear funciones propias.\n",
        "- En los siguientes ejercicios, primero determine los pasos que solucionan el problema, luego codifique la solución, pruebe los pasos uno a uno hasta obtener la solución completa, y finalmente convierta el resultado en una función.\n",
        "    1. Hacer una función que busca un valor en una lista y devuelve la cantidad de veces que aparece el valor dado y una lista con las posiciones (índices) en donde se encuentra el valor. La función recibe la lista y el valor a buscar. Por ejemplo;\n",
        "    `entrada: ([1,8,2,8,8,4,7,8,8,2,8,3,8,7,6], 8) salida: (7, [1,3,4,7,8,10,12]`\n",
        "    2. Diseñe un algoritmo que recibe dos listas de valores numéricos y busca la secuencia completa de valores de la segunda lista dentro de la primera lista. El algoritmo devuelve el índice en donde se inicia la coincidencia completa. En este ejercicio no se pueden usar otras funciones ni librerias Por ejemplo:\n",
        "    `entrada: ([1,2,2,2,3,2,3,7,2,6,7], [2,3,7]) salida: (5)`\n",
        "    2. Se requiere un algoritmo que halle el valor máximo de una lista que se da como entrada. El algoritmo devuelve el valor máximo, las veces que se aparece y una lista con las posiciones (los índices) en donde se encuentra el máximo.\n",
        "    3. Hallar el valor promedio de una lista de valores.\n",
        "    3. Dada una lista de valores, halle la desviación estándar.\n",
        "    3. Dada una lista de valores, halle el valor de la Curtosis.\n",
        "    3. Diseñe un algoritmo que calcule la mediana de una lista de valores.\n",
        "    4. Diseñe una función que recibe una lista de valores y devuelve una lista en donde se eliminan los valores únicos. Por ejemplo:\n",
        "    `Entrada: ([8,7,3,9,4,12,6,4,3,7,0,8,5,6,21,11,6,1,2,5]) Salida: ([8,7,3,4,6,4,3,7,8,5,6,6,5])` <br>Observe que en este ejemplo se eliminaron los valores `[9,12,0,21,11,1,2]`\n",
        "    4. Dada la fórmula del sesgo positivo, diseñe un algoritmo que lo calcule a partir de una lista de valores.\n",
        "$$ sp = \\frac{1}{N-1}\\sum_{i=1}^N \\frac{1}{1+e^{-f\\cdot y_i}}$$\n",
        "donde $N$ es la cantidad de muestras, $f$ es el factor de multiplicación que puede ser 4, 8, o 16, y $y$ es:\n",
        "\n",
        "$$ y_i = \\frac{(x_i-\\mu)}{\\sigma}$$\n",
        "\n",
        "\n"
      ]
    },
    {
      "cell_type": "code",
      "metadata": {
        "id": "RYQ1NiOildcJ",
        "colab": {
          "base_uri": "https://localhost:8080/"
        },
        "outputId": "bea81493-6544-4e87-9d69-1630e147a722"
      },
      "source": [
        "# Celda de código para probar\n",
        "#Hacer una función que busca un valor en una lista y devuelve la cantidad de veces que aparece el valor dado y una lista con las posiciones (índices) en donde se encuentra el valor. La función recibe la lista y el valor a buscar. Por ejemplo; entrada: ([1,8,2,8,8,4,7,8,8,2,8,3,8,7,6], 8) salida: (7, [1,3,4,7,8,10,12]\n",
        "def cantidad(lista,valor):\n",
        "    # pos = []\n",
        "    cont = 0\n",
        "    for v in lista:\n",
        "        if v == valor:\n",
        "            cont += 1\n",
        "    return cont\n",
        "    #print (f'el numero {valor} esta {cont} veces en la lista')\n",
        "\n",
        "def posicion (lista,valor):\n",
        "    pos = []\n",
        "    # cont = 0\n",
        "    for p in range(len(lista)):\n",
        "        if lista[p] == valor:\n",
        "            # cont = cont + 1\n",
        "            pos.append(p)\n",
        "    # print (pos)\n",
        "    return pos\n",
        "\n",
        "lista = [1,8,2,8,8,4,7,8,8,2,8,3,8,7,6]\n",
        "valor = 8\n",
        "\n",
        "cantidad_valor = cantidad(lista,valor)\n",
        "posicion_valor = posicion(lista,valor)\n",
        "\n",
        "print (f'el numero {valor} esta {cantidad_valor} veces en la lista')\n",
        "print (f'la posicion del numero {valor} es: {posicion_valor}')\n"
      ],
      "execution_count": null,
      "outputs": [
        {
          "output_type": "stream",
          "name": "stdout",
          "text": [
            "el numero 8 esta 7 veces en la lista\n",
            "la posicion del numero 8 es: [1, 3, 4, 7, 8, 10, 12]\n"
          ]
        }
      ]
    },
    {
      "cell_type": "markdown",
      "source": [
        "Diseñe un algoritmo que recibe dos listas de valores numéricos y busca la secuencia completa de valores de la segunda lista dentro de la primera lista. El algoritmo devuelve el índice en donde se inicia la coincidencia completa. En este ejercicio no se pueden usar otras funciones ni librerias Por ejemplo: entrada: ([1,2,2,2,3,2,3,7,2,6,7], [2,3,7]) salida: (5)"
      ],
      "metadata": {
        "id": "hy1qISK7gXJE"
      }
    },
    {
      "cell_type": "code",
      "source": [
        "#lista = [1,2,2,2,3,2,3,7,2,6,7]\n",
        "secuencia = [2,3,7]\n",
        "ok = []\n",
        "\n",
        "for i in range(len(lista)-len(secuencia)+1):\n",
        "    #print(f'lista({i}) : {lista[i]}')\n",
        "    bandera = True\n",
        "    for j in range(len(secuencia)):\n",
        "        if lista[i+j] != secuencia[j]:\n",
        "            bandera = False\n",
        "            #print(f'--> lista[{i+j}]: {lista [i+j]} sec[{j}] : {secuencia [j]}, bandera: {bandera}')\n",
        "    if bandera:\n",
        "        ok.append(i)\n",
        "        print(\"Encontramos la secuencia!!\",ok)"
      ],
      "metadata": {
        "id": "53oq8KvcgQHa"
      },
      "execution_count": null,
      "outputs": []
    },
    {
      "cell_type": "markdown",
      "source": [
        "Se requiere un algoritmo que halle el valor máximo de una lista que se da como entrada. El algoritmo devuelve el valor máximo, las veces que se aparece y una lista con las posiciones (los índices) en donde se encuentra el máximo."
      ],
      "metadata": {
        "id": "6r1mRNkXgjGS"
      }
    },
    {
      "cell_type": "code",
      "source": [
        "lista =[5,4,7,8,9,6,5,1,9,3,4,9,5,5]\n",
        "pos =[]\n",
        "max = lista[0]\n",
        "\n",
        "for n in range(len(lista)):\n",
        "    if lista[n] > max:\n",
        "        max= lista[n]\n",
        "    #print ('el numero maximo es', max)\n",
        "\n",
        "for i in range(len(lista)):\n",
        "    if lista[i] == max:\n",
        "        pos.append(i)\n",
        "        #print ('la posicion del numero maximo es', pos)\n",
        "\n",
        "print (f'el numero maximo es {max} esta en la posicion {pos}')"
      ],
      "metadata": {
        "colab": {
          "base_uri": "https://localhost:8080/"
        },
        "id": "W0mafnAmgk06",
        "outputId": "d036bb67-8964-4126-ab0a-0993d0308f39"
      },
      "execution_count": null,
      "outputs": [
        {
          "output_type": "stream",
          "name": "stdout",
          "text": [
            "el numero maximo es 9 esta en la posicion [4, 8, 11]\n"
          ]
        }
      ]
    },
    {
      "cell_type": "markdown",
      "source": [
        "Hallar el valor promedio de una lista de valores."
      ],
      "metadata": {
        "id": "3UF09i0Kg0NL"
      }
    },
    {
      "cell_type": "code",
      "source": [
        "def promedio (lista):\n",
        "    suma = 0\n",
        "    cant = 0\n",
        "\n",
        "    for num in lista:\n",
        "        suma += num\n",
        "        #print(suma)\n",
        "\n",
        "    for num in lista:\n",
        "        cant += 1\n",
        "        #print(cant)\n",
        "\n",
        "    promedio = suma / cant\n",
        "\n",
        "    return promedio\n",
        "\n",
        "lista = [4,6,5,1,15,9,12,13,14,3,8,7]\n",
        "\n",
        "print (f'el promedio de la lista es: {promedio(lista)}')"
      ],
      "metadata": {
        "colab": {
          "base_uri": "https://localhost:8080/"
        },
        "id": "jYZRuosZg1KW",
        "outputId": "72321300-4d32-4881-f484-523e14030375"
      },
      "execution_count": null,
      "outputs": [
        {
          "output_type": "stream",
          "name": "stdout",
          "text": [
            "el promedio de la lista es: 8.083333333333334\n"
          ]
        }
      ]
    },
    {
      "cell_type": "markdown",
      "source": [
        "Dada una lista de valores, halle la desviación estándar."
      ],
      "metadata": {
        "id": "oQItsDpnhMGd"
      }
    },
    {
      "cell_type": "code",
      "source": [
        "def promedio (lista):\n",
        "    suma = 0\n",
        "    cant = 0\n",
        "\n",
        "    for num in lista:\n",
        "        suma += num\n",
        "        #print(suma)\n",
        "        cant += 1\n",
        "        #print(cant)\n",
        "\n",
        "    promedio = suma / cant\n",
        "    return promedio\n",
        "\n",
        "def desviacion(lista):\n",
        "    prom =  promedio(lista)\n",
        "    cuadrados = []\n",
        "    suma = 0\n",
        "\n",
        "    for num in lista:\n",
        "        resta = (round(num - prom))\n",
        "        #print (resta)\n",
        "        cuadrado = resta ** 2\n",
        "        cuadrados.append(cuadrado)\n",
        "        #print (cuadrado)\n",
        "\n",
        "    for cuadrado in cuadrados:\n",
        "        suma += cuadrado\n",
        "    #print(suma)\n",
        "\n",
        "    longitud = len(lista) - 1\n",
        "    #print(longitud)\n",
        "\n",
        "    for desviacion in cuadrados:\n",
        "        desviacion = (suma / longitud) ** 0.5\n",
        "    return desviacion\n",
        "\n",
        "lista = [4,6,5,1,15,9,12,13,14,3,8,7]\n",
        "\n",
        "\n",
        "print('La desviacion estandar de la lista es', desviacion(lista))"
      ],
      "metadata": {
        "colab": {
          "base_uri": "https://localhost:8080/"
        },
        "id": "KFszaz7YhM-q",
        "outputId": "06bbdf42-bebe-428b-e07f-2be4d7133605"
      },
      "execution_count": null,
      "outputs": [
        {
          "output_type": "stream",
          "name": "stdout",
          "text": [
            "La desviacion estandar de la lista es 4.58257569495584\n"
          ]
        }
      ]
    },
    {
      "cell_type": "markdown",
      "source": [
        "Dada una lista de valores, halle el valor de la Curtosis."
      ],
      "metadata": {
        "id": "kTtXADsChSDs"
      }
    },
    {
      "cell_type": "code",
      "source": [
        "lista = [4,6,5,1,15,9,12,13,14,3,8,7]\n",
        "\n",
        "prom2 = promedio(lista)\n",
        "desv = desviacion(lista)\n",
        "sum = 0\n",
        "cuarto_momento2 = []\n",
        "\n",
        "for cuarto in lista:\n",
        "    cuarto_momento = (cuarto - prom2) ** 4\n",
        "    cuarto_momento2.append(cuarto_momento)\n",
        "    #print(cuarto_momento)\n",
        "\n",
        "for s in cuarto_momento2:\n",
        "    sum += s\n",
        "print(sum)\n",
        "\n",
        "longitud = len(lista)\n",
        "#print(longitud)\n",
        "\n",
        "for curtosis in cuarto_momento2:\n",
        "    curtosis = ((s / longitud) * (desv ** 4)-3)\n",
        "    #print(curtosis)\n",
        "\n",
        "print(f'La curtosis de la lista es: {curtosis}')"
      ],
      "metadata": {
        "colab": {
          "base_uri": "https://localhost:8080/"
        },
        "id": "NvF3XFcFhWDK",
        "outputId": "d00f7a6c-9769-487d-a3e2-0e9ddff80c02"
      },
      "execution_count": null,
      "outputs": [
        {
          "output_type": "stream",
          "name": "stdout",
          "text": [
            "7908.2899305555575\n",
            "La curtosis de la lista es: 47.61809172453714\n"
          ]
        }
      ]
    },
    {
      "cell_type": "markdown",
      "source": [
        "Diseñe un algoritmo que calcule la mediana de una lista de valores"
      ],
      "metadata": {
        "id": "mglQZsefh0yN"
      }
    },
    {
      "cell_type": "code",
      "source": [
        "# 7 Diseñe un algoritmo que calcule la mediana de una lista de valores.\n",
        "def calcular_mediana(lista): # Declarar la función\n",
        "    lista_ordenada = sorted(lista) # Ordenar la lista\n",
        "    n = len(lista_ordenada) # Calculo de la lista ordenada y se guarda en la variable n\n",
        " # si n es impar la mediana esta en el medio(empezando desde cero), si es par se suma los elementos centrales y se divide por 2 para obtenber el promedio como la mediana de la lista\n",
        "    if n % 2 == 1: # Validar si es un numero impar, dividir el numero total de elementos entre 2, si es resto es 1 quiere decir que es impar\n",
        "        return lista_ordenada[n // 2] # si el numero de elementos es impar, elemento del medio seria la mediana\n",
        "    else: # por el contrario si es par, tendriamos dos elementos en el medio\n",
        "        medio1 = lista_ordenada[n // 2 - 1] # Encontar la posición del primer elemento del medio de la lista par\n",
        "        medio2 = lista_ordenada[n // 2] # Encontrar la posición del segundo elemento del medio de la lista par\n",
        "        return (medio1 + medio2) / 2 # sumar los dos elementos centrales y dividir en 2\n",
        "\n",
        "lista = [1,3,4,2]\n",
        "mediana = calcular_mediana(lista)\n",
        "print(f\"La mediana de la lista es {mediana}\")"
      ],
      "metadata": {
        "id": "EsGjgCwmhwCY"
      },
      "execution_count": null,
      "outputs": []
    },
    {
      "cell_type": "markdown",
      "source": [
        "Diseñe una función que recibe una lista de valores y devuelve una lista en donde se eliminan los valores únicos. Por ejemplo: Entrada: ([8,7,3,9,4,12,6,4,3,7,0,8,5,6,21,11,6,1,2,5]) Salida: ([8,7,3,4,6,4,3,7,8,5,6,6,5])\n",
        "Observe que en este ejemplo se eliminaron los valores [9,12,0,21,11,1,2]\n",
        "crear lista\n",
        "se recorre la lista y contar cuantas veces se repite el valor.\n",
        "elimar los reperitidos o guardarlos en una nueva lista de numeros unicos.\n",
        "mostrar la nueva lista repetirlo."
      ],
      "metadata": {
        "id": "m7ri0wg_h3c_"
      }
    },
    {
      "cell_type": "code",
      "source": [
        "entrada = [8,7,3,9,4,12,6,4,3,7,0,8,5,6,21,11,6,1,2,5]\n",
        "#salida = [8,7,3,4,6,4,3,7,8,5,6,6,5]\n",
        "unicos = [9,12,0,21,11,1,2]\n",
        "ok = {}\n",
        "for valor in entrada:\n",
        "    if valor in ok:\n",
        "        ok[valor]+=1\n",
        "    else:\n",
        "        ok[valor]=1\n",
        "#     print(ok)\n",
        "# print(ok)\n",
        "salida = []\n",
        "for valor in entrada:\n",
        "    if ok[valor] > 1:\n",
        "        salida.append(valor)\n",
        "print(salida)"
      ],
      "metadata": {
        "colab": {
          "base_uri": "https://localhost:8080/"
        },
        "id": "mvrRdhPFh-Fa",
        "outputId": "c51ecf12-ec71-4572-d6f3-49930ccbfff3"
      },
      "execution_count": null,
      "outputs": [
        {
          "output_type": "stream",
          "name": "stdout",
          "text": [
            "[8, 7, 3, 4, 6, 4, 3, 7, 8, 5, 6, 6, 5]\n"
          ]
        }
      ]
    },
    {
      "cell_type": "markdown",
      "source": [
        "Dada la fórmula del sesgo positivo, diseñe un algoritmo que lo calcule a partir de una lista de valores.\n",
        "$$ sp = \\frac{1}{N-1}\\sum_{i=1}^N \\frac{1}{1+e^{-f\\cdot y_i}}$$\n",
        "donde $N$ es la cantidad de muestras, $f$ es el factor de multiplicación que puede ser 4, 8, o 16, y $y$ es:\n",
        "\n",
        "$$ y_i = \\frac{(x_i-\\mu)}{\\sigma}$$"
      ],
      "metadata": {
        "id": "0BOMkEDLiFKM"
      }
    },
    {
      "cell_type": "code",
      "source": [
        "lista = [1, 2, 3, 4, 5]\n",
        "f = 4\n",
        "\n",
        "def calcular_media(lista):\n",
        "    suma = 0\n",
        "    for valor in lista:\n",
        "        suma += valor\n",
        "    return suma / len(lista)\n",
        "\n",
        "def     calcular_desviacion_estandar(lista, media):\n",
        "    suma = 0\n",
        "    for valor in lista:\n",
        "        suma += (valor - media) ** 2\n",
        "    return (suma / (len(lista) - 1)) ** 0.5\n",
        "\n",
        "\n",
        "\n",
        "def calcular_sesgo_positivo(lista, f):\n",
        "    N = len(lista)\n",
        "    media = calcular_media(lista)\n",
        "    desviacion_estandar = calcular_desviacion_estandar(lista, media)\n",
        "\n",
        "    suma = 0\n",
        "    for valor in lista:\n",
        "        y_i = (valor - media) / desviacion_estandar\n",
        "        exponencial = calcular_exponencial(-f * y_i)\n",
        "        suma += 1 / (1 + exponencial)\n",
        "\n",
        "    sesgo_positivo = suma / (N - 1)\n",
        "    return sesgo_positivo\n",
        "\n",
        "\n",
        "\n",
        "sesgo_positivo = calcular_sesgo_positivo(lista, f)\n",
        "print(f\"El sesgo positivo de la lista es {sesgo_positivo}\")"
      ],
      "metadata": {
        "colab": {
          "base_uri": "https://localhost:8080/"
        },
        "id": "wmllJqtwdjXg",
        "outputId": "8462e321-412a-4928-b998-bbb60573c573"
      },
      "execution_count": null,
      "outputs": [
        {
          "output_type": "stream",
          "name": "stdout",
          "text": [
            "El sesgo positivo de la lista es 0.5027721152347269\n"
          ]
        }
      ]
    }
  ]
}