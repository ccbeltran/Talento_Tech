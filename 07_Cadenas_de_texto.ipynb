{
  "nbformat": 4,
  "nbformat_minor": 0,
  "metadata": {
    "colab": {
      "provenance": [],
      "include_colab_link": true
    },
    "kernelspec": {
      "name": "python3",
      "display_name": "Python 3"
    }
  },
  "cells": [
    {
      "cell_type": "markdown",
      "metadata": {
        "id": "view-in-github",
        "colab_type": "text"
      },
      "source": [
        "<a href=\"https://colab.research.google.com/github/ccbeltran/Talento_Tech/blob/main/07_Cadenas_de_texto.ipynb\" target=\"_parent\"><img src=\"https://colab.research.google.com/assets/colab-badge.svg\" alt=\"Open In Colab\"/></a>"
      ]
    },
    {
      "cell_type": "markdown",
      "metadata": {
        "id": "au1giV3cJBF5"
      },
      "source": [
        "![Universidad Central](https://www.ucentral.edu.co/sites/default/files/inline-images/identificadores-Centrados_en_ti_logo-h.png)"
      ]
    },
    {
      "cell_type": "markdown",
      "metadata": {
        "id": "v6PukZAHXNwj"
      },
      "source": [
        ">## **Fundamentos de programación en python**\n",
        "\n",
        ">>**Facultad de Ingeniería y Ciencias Básicas.**\n",
        "\n",
        ">>**Universidad Central**\n",
        "\n",
        "> >*Profesor: Jorge Victorino*\n",
        "\n",
        ">**Temas:**\n",
        "\n",
        ">> Manipulación de cadenas de texto\n",
        ">>* Concatenar y partir\n",
        ">>* Buscar y reemplazar\n",
        ">>* Archivos de texto\n",
        ">>* Verficaciones con cadenas\n",
        ">>* Otras operaciones con cadenas\n",
        "\n",
        ">---\n",
        "\n"
      ]
    },
    {
      "cell_type": "markdown",
      "metadata": {
        "id": "ajJe5rWqCU1N"
      },
      "source": [
        "\n",
        "# __Cadenas de caracteres__\n",
        "\n",
        "Las cadenas de caracteres (strings) son un tipo de dato especial en los diferentes lenguajes de programación, y en _python_ no es la excepción. Las caracteristicas de una cadena de caracteres son las siguientes:\n",
        "- Funcionan como un arreglo, en donde cada caracter es un elemento del arreglo, y la longitud de una cadena no es fija.\n",
        "- El primer caracter está en la posición cero\n",
        "- Dependiendo de su contenido se pueden convertir a otros tipos de datos, por ejemplo números enteros y reales, fechas, y valores lógicos.\n",
        "- Permite representar archivos, enlaces, entidades, personas, categorías, etc\n",
        "- Se pueden definir variables de cadena usando comillas dobles o sencillas\n",
        "- Las cadenas además de visualizar caracteres alpha-numéricos, signos, operadores, emojis, etc, también pueden representar caracteres especiales que no se muestran, como por ejemplo: fin de línea (\\n), tabulador (\\t), entre otros\n",
        "\n",
        "## Operaciones básicas\n",
        "\n",
        "Las cadenas pueden ser vacias, tener solo un caracter o ser tan largas como se pueda. Para definir cadenas en python es lo mismo usar comillas dobles o sencillas\n",
        "\n",
        "\n",
        "```python\n",
        "cad0 = ''                 # cadena vacia\n",
        "cad1 = 'Hola, mundo'      # definición con comilla sencilla\n",
        "cad2 = \"Hello, world\"     # definición con comilla doble\n",
        "cad3 = '''\n",
        "Esto es una cadena de\n",
        "caracteres de multiples\n",
        "líneas de texto\n",
        "'''                       # definición de una cadena multilineas\n",
        "print(cad0)\n",
        "print(cad1)\n",
        "print(cad2)\n",
        "print(cad3)\n",
        "```\n",
        "\n",
        "\n"
      ]
    },
    {
      "cell_type": "code",
      "metadata": {
        "id": "P3KMagPJs3-y"
      },
      "source": [
        "# Pruebe el código en esta celda"
      ],
      "execution_count": null,
      "outputs": []
    },
    {
      "cell_type": "markdown",
      "metadata": {
        "id": "8RBXgQJ396gZ"
      },
      "source": [
        "\n",
        "### Cadenas crudas y unicode\n",
        "Observe el comportamiento de las siguientes líneas y concluya cual es la diferencia\n",
        "\n",
        "```python\n",
        "cad4 = \"C:\\\\User\\fulanito\\taller.ipynb\"\n",
        "print(cad4)\n",
        "cad5 = r\"C:\\\\User\\fulanito\\taller.ipynb\"\n",
        "print(cad5)\n",
        "cad6 = u\"C:\\\\User\\fulanito\\taller.ipynb\"\n",
        "print(cad6)\n",
        "```\n",
        "\n",
        "\n"
      ]
    },
    {
      "cell_type": "code",
      "metadata": {
        "id": "DIxtduzV94hl",
        "colab": {
          "base_uri": "https://localhost:8080/"
        },
        "outputId": "3a019d67-09fe-4557-8b62-fc8c28842e90"
      },
      "source": [
        "# Pruebe el código en esta celda\n",
        "print(f\"C:\\\\User\\fulanito\\{round(9.81*25)}taller.ipynb \")"
      ],
      "execution_count": null,
      "outputs": [
        {
          "output_type": "stream",
          "name": "stdout",
          "text": [
            "C:\\User\fulanito\\245taller.ipynb \n"
          ]
        }
      ]
    },
    {
      "cell_type": "markdown",
      "metadata": {
        "id": "zgIRzjccs8D_"
      },
      "source": [
        "### Cadenas como arreglos\n",
        "\n",
        "Efectivamente, las cadenas de texto funcionan de manera similar a los arreglos o listas:\n",
        "\n",
        "\n",
        "\n",
        "```python\n",
        "print('Tamaño cadena:    ', len(cad1))     \n",
        "print('Primer caracter:  ', cad1[0])\n",
        "print('Último caracter: ', cad1[-1])\n",
        "print('El resto sería:   ', cad1[1:-1])\n",
        "\n",
        "# Extraer cualquier subcadena a otra variable\n",
        "tmp = cad[4:10]\n",
        "print('Subcadena [4,10]: ', tmp)\n",
        "\n",
        "# NO ES POSIBLE cambiar elementos directamente\n",
        "cad1[0] = 'h'       # error\n",
        "cad1[1:5] = 'news'  # error\n",
        "```\n",
        "\n"
      ]
    },
    {
      "cell_type": "code",
      "metadata": {
        "id": "pYmMyblss7Ic"
      },
      "source": [
        "# Pruebe el código en esta celda"
      ],
      "execution_count": null,
      "outputs": []
    },
    {
      "cell_type": "markdown",
      "metadata": {
        "id": "ECPbZjEQ5qaG"
      },
      "source": [
        "### Recorrido y existencia como arreglo:\n",
        "\n",
        "También es posible verficar la existencia de una sub-cadena o caracter dentro de una cadena con el operador __in__\n",
        "\n",
        "Prube una a una:\n",
        "```python\n",
        "'ola' in cad1\n",
        "',' in cad1\n",
        "```\n",
        "El recorrido como si fuera un vector de elementos usando __for__\n",
        "\n",
        "```python\n",
        "for c in cad1:\n",
        "    print('-->', c)\n",
        "```\n",
        "Usando __enumerate__\n",
        "\n",
        "```python\n",
        "# muestra el índice de cada caracter\n",
        "for i, c in enumerate(cad1):\n",
        "    print(i, '-->', c)\n",
        "```\n",
        "\n",
        "\n",
        "\n",
        "\n",
        "\n",
        "\n"
      ]
    },
    {
      "cell_type": "code",
      "source": [
        "s2 = 'a'\n",
        "s2.isalnum()"
      ],
      "metadata": {
        "colab": {
          "base_uri": "https://localhost:8080/"
        },
        "id": "LG5w9Ruq2QL3",
        "outputId": "c0ecfed3-14c4-4c9c-babf-3ce44902c584"
      },
      "execution_count": 11,
      "outputs": [
        {
          "output_type": "execute_result",
          "data": {
            "text/plain": [
              "True"
            ]
          },
          "metadata": {},
          "execution_count": 11
        }
      ]
    },
    {
      "cell_type": "code",
      "source": [
        "s2 = '1'\n",
        "s2.isalpha()"
      ],
      "metadata": {
        "colab": {
          "base_uri": "https://localhost:8080/"
        },
        "id": "plo5qswn2ptg",
        "outputId": "0b5b52aa-9353-4a4a-c94f-04015c1c03d3"
      },
      "execution_count": 13,
      "outputs": [
        {
          "output_type": "execute_result",
          "data": {
            "text/plain": [
              "False"
            ]
          },
          "metadata": {},
          "execution_count": 13
        }
      ]
    },
    {
      "cell_type": "code",
      "source": [
        "s2 = ' '\n",
        "s2.isspace()"
      ],
      "metadata": {
        "colab": {
          "base_uri": "https://localhost:8080/"
        },
        "id": "Y9xqFauc2z8f",
        "outputId": "99e65fae-7dcd-4ebb-ce31-14edfdbffe5d"
      },
      "execution_count": 16,
      "outputs": [
        {
          "output_type": "execute_result",
          "data": {
            "text/plain": [
              "True"
            ]
          },
          "metadata": {},
          "execution_count": 16
        }
      ]
    },
    {
      "cell_type": "code",
      "source": [
        "s1 = 'Hola mundo'\n",
        "for i, c in enumerate(s1):\n",
        "    print(i, c)\n",
        "print(s1[5:].upper(), len(s1))\n",
        "print('mun' in s1)"
      ],
      "metadata": {
        "colab": {
          "base_uri": "https://localhost:8080/"
        },
        "id": "ountyM7V0A0v",
        "outputId": "846fe3a6-a97a-47b2-e700-69b410ba80ac"
      },
      "execution_count": 7,
      "outputs": [
        {
          "output_type": "stream",
          "name": "stdout",
          "text": [
            "0 H\n",
            "1 o\n",
            "2 l\n",
            "3 a\n",
            "4  \n",
            "5 m\n",
            "6 u\n",
            "7 n\n",
            "8 d\n",
            "9 o\n",
            "MUNDO 10\n",
            "True\n"
          ]
        }
      ]
    },
    {
      "cell_type": "markdown",
      "metadata": {
        "id": "eeo0Memzs6Ve"
      },
      "source": [
        "### Concatenar\n",
        "\n",
        "* Para concatenar se usa el operador +\n",
        "* Para generar múltiples copias de la cadena se usa el operador *\n",
        "\n",
        "\n",
        "```python\n",
        "str1 = \"analítica\"\n",
        "str2 = 'datos'\n",
        "str3 = str1 + ' de ' + str2            # operación de concatenar\n",
        "print('Cadena: ', len(str3), str3)     # imprimir tamaño y cadena\n",
        "print('Multiplicar: ', str1*5)         # operación de multiplicar\n",
        "print('Combinar: ', (str1+' ')*5)      # combinar para mejorar el resultado\n",
        "```\n",
        "Para concatenar otros tipos de datos a una cadena se tienen dos formas\n",
        "\n",
        "```python\n",
        "entero = 34\n",
        "real = 146.38\n",
        "s1 = 'el valor: ' + str(entero) + ' es: ' + str(real)\n",
        "print(s1)\n",
        "s2 = 'el valor: %d es: %f' %(entero, real)\n",
        "print(s2)\n",
        "\n",
        "```\n",
        "\n",
        "\n"
      ]
    },
    {
      "cell_type": "markdown",
      "source": [
        "### Ejemplo en clase:\n",
        "\n",
        "- Pedirle al usuario que ingrese una clave y verificar que la clave contenga:\n",
        "    - Por lo menos 8 caracteres\n",
        "    - Por lo menos símbolo como: @#$%&?¡!°|+-*/=\\_{:}[;](^)\n",
        "    - Por lo menos un caracter en mayúscula\n",
        "    - Por lo menos un caracter en minúscula\n",
        "    - Por lo menos un dígito\n",
        "\n",
        "  \n",
        "    - Que no contenga un caracter repetido tres o más veces seguidas\n",
        "De lo contrario volver a pedirle la clave hasta que cumpla todas las condiciones"
      ],
      "metadata": {
        "id": "KWncPCtEthsk"
      }
    },
    {
      "cell_type": "code",
      "source": [],
      "metadata": {
        "id": "xM_m6YoT2LNg"
      },
      "execution_count": 21,
      "outputs": []
    },
    {
      "cell_type": "code",
      "metadata": {
        "id": "xlvEEToR6cLV",
        "colab": {
          "base_uri": "https://localhost:8080/"
        },
        "outputId": "7d0c3114-f270-42ae-8cae-abd9ab21a61b"
      },
      "source": [
        "# Pruebe el código en esta celda\n",
        "clave = 'ffgghhjH23+'\n",
        "if len(clave) >= 8:\n",
        "    print('cumple')\n",
        "else:\n",
        "    print('no cumple')\n",
        "\n",
        "if clave.isalnum():\n",
        "    print('cumple')\n",
        "else:\n",
        "    print('no cumple')\n",
        "\n",
        "if clave.isupper():\n",
        "    for i in range(len(clave)-2):\n",
        "        if clave[i] == clave[i+1] == clave[i+2]:\n",
        "            print('no cumple')\n",
        "            break\n",
        "    else:\n",
        "        print('cumple')\n",
        "else:\n",
        "    print('no cumple')"
      ],
      "execution_count": 30,
      "outputs": [
        {
          "output_type": "stream",
          "name": "stdout",
          "text": [
            "cumple\n",
            "no cumple\n",
            "no cumple\n"
          ]
        }
      ]
    },
    {
      "cell_type": "code",
      "source": [
        "clave = 'ffgghh1234'\n",
        "if len(clave) >= 8:\n",
        "    print('ERROR: clave con menos de 8 caracteres')\n",
        "mayus = False\n",
        "minus = False\n",
        "dig = False\n",
        "for c in clave:\n",
        "    if c.isupper():\n",
        "        mayus = True\n",
        "    elif c.islower():\n",
        "        minus = True\n",
        "    elif c.isdigit():\n",
        "        dig = True\n",
        "if not mayus:\n",
        "    print('ERROR: clave sin mayúsculas')\n",
        "if not minus:\n",
        "    print('ERROR: clave sin minúsculas')\n",
        "if not dig:\n",
        "    print('ERROR: clave sin dígitos')"
      ],
      "metadata": {
        "colab": {
          "base_uri": "https://localhost:8080/"
        },
        "id": "Xr1qmZvm7ryh",
        "outputId": "79cafdbc-2ce1-45af-f848-4a43a6d4638b"
      },
      "execution_count": 36,
      "outputs": [
        {
          "output_type": "stream",
          "name": "stdout",
          "text": [
            "ERROR: clave con menos de 8 caracteres\n",
            "ERROR: clave sin mayúsculas\n"
          ]
        }
      ]
    },
    {
      "cell_type": "code",
      "source": [
        "clave  = 'ffgfghghgh'\n",
        "previo = clave[0]\n",
        "cont = 0\n",
        "for c in clave[1:]:\n",
        "    if c == previo:\n",
        "        cont += 1\n",
        "    else:\n",
        "        cont = 0\n",
        "    if cont >= 2:\n",
        "        repetido = True\n",
        "    print(previo,c,cont)\n",
        "    previo = c\n",
        "print(repetido)\n",
        ""
      ],
      "metadata": {
        "colab": {
          "base_uri": "https://localhost:8080/",
          "height": 349
        },
        "id": "ept2E2Wb8wI5",
        "outputId": "a645191d-2863-4d38-d8a4-1ee44d3caf63"
      },
      "execution_count": 41,
      "outputs": [
        {
          "output_type": "stream",
          "name": "stdout",
          "text": [
            "f f 1\n",
            "f g 0\n",
            "g f 0\n",
            "f g 0\n",
            "g h 0\n",
            "h g 0\n",
            "g h 0\n",
            "h g 0\n",
            "g h 0\n"
          ]
        },
        {
          "output_type": "error",
          "ename": "NameError",
          "evalue": "name 'repetido' is not defined",
          "traceback": [
            "\u001b[0;31m---------------------------------------------------------------------------\u001b[0m",
            "\u001b[0;31mNameError\u001b[0m                                 Traceback (most recent call last)",
            "\u001b[0;32m<ipython-input-41-a4a4d9b2098c>\u001b[0m in \u001b[0;36m<cell line: 13>\u001b[0;34m()\u001b[0m\n\u001b[1;32m     11\u001b[0m     \u001b[0mprint\u001b[0m\u001b[0;34m(\u001b[0m\u001b[0mprevio\u001b[0m\u001b[0;34m,\u001b[0m\u001b[0mc\u001b[0m\u001b[0;34m,\u001b[0m\u001b[0mcont\u001b[0m\u001b[0;34m)\u001b[0m\u001b[0;34m\u001b[0m\u001b[0;34m\u001b[0m\u001b[0m\n\u001b[1;32m     12\u001b[0m     \u001b[0mprevio\u001b[0m \u001b[0;34m=\u001b[0m \u001b[0mc\u001b[0m\u001b[0;34m\u001b[0m\u001b[0;34m\u001b[0m\u001b[0m\n\u001b[0;32m---> 13\u001b[0;31m \u001b[0mprint\u001b[0m\u001b[0;34m(\u001b[0m\u001b[0mrepetido\u001b[0m\u001b[0;34m)\u001b[0m\u001b[0;34m\u001b[0m\u001b[0;34m\u001b[0m\u001b[0m\n\u001b[0m\u001b[1;32m     14\u001b[0m \u001b[0;34m\u001b[0m\u001b[0m\n",
            "\u001b[0;31mNameError\u001b[0m: name 'repetido' is not defined"
          ]
        }
      ]
    },
    {
      "cell_type": "code",
      "source": [
        "str1 = '''porque como poco\n",
        "          coco como,    poco\n",
        "          coco compro'''\n",
        "str1.split()"
      ],
      "metadata": {
        "colab": {
          "base_uri": "https://localhost:8080/"
        },
        "id": "RTvhhc-bCAUr",
        "outputId": "76efba69-913a-4a01-c99c-c80fea6a85cc"
      },
      "execution_count": 49,
      "outputs": [
        {
          "output_type": "execute_result",
          "data": {
            "text/plain": [
              "['porque', 'como', 'poco', 'coco', 'como,', 'poco', 'coco', 'compro']"
            ]
          },
          "metadata": {},
          "execution_count": 49
        }
      ]
    },
    {
      "cell_type": "code",
      "source": [
        "cadena = 'hola camilo Hola, sara, holas juan hoLA lola'\n",
        "cadena.lower().count('hola')"
      ],
      "metadata": {
        "colab": {
          "base_uri": "https://localhost:8080/"
        },
        "id": "yCTvGjXZCk-K",
        "outputId": "26b82011-d64d-4793-9778-c102a62fe944"
      },
      "execution_count": 52,
      "outputs": [
        {
          "output_type": "execute_result",
          "data": {
            "text/plain": [
              "4"
            ]
          },
          "metadata": {},
          "execution_count": 52
        }
      ]
    },
    {
      "cell_type": "code",
      "source": [
        "l1 = [1,2,1,2,1,4,5,3,5,8,9,7]\n",
        "' '.join([str(n) for n in l1])"
      ],
      "metadata": {
        "colab": {
          "base_uri": "https://localhost:8080/",
          "height": 35
        },
        "id": "QvnuSI45D-U7",
        "outputId": "5862465e-ebf5-4085-8069-d53ec29463bb"
      },
      "execution_count": 57,
      "outputs": [
        {
          "output_type": "execute_result",
          "data": {
            "text/plain": [
              "'1 2 1 2 1 4 5 3 5 8 9 7'"
            ],
            "application/vnd.google.colaboratory.intrinsic+json": {
              "type": "string"
            }
          },
          "metadata": {},
          "execution_count": 57
        }
      ]
    },
    {
      "cell_type": "code",
      "source": [
        "frase = 'esta, = es una frase? cualquiera -!!'\n",
        "texto = ''\n",
        "for c in frase:\n",
        "    if c.isalpha() or c == ' ':\n",
        "        texto += c\n",
        "texto.split()\n",
        "\n",
        "\n"
      ],
      "metadata": {
        "colab": {
          "base_uri": "https://localhost:8080/"
        },
        "id": "MqmehiMwJFoc",
        "outputId": "db3c304d-b2f5-49d1-9a9c-7bf309a0bd2a"
      },
      "execution_count": 86,
      "outputs": [
        {
          "output_type": "execute_result",
          "data": {
            "text/plain": [
              "['esta', 'es', 'una', 'frase', 'cualquiera']"
            ]
          },
          "metadata": {},
          "execution_count": 86
        }
      ]
    },
    {
      "cell_type": "code",
      "source": [
        "archivo = open('prueba.txt', 'r')\n",
        "encabezado = archivo.readline()\n",
        "encabezado = archivo.readline()\n",
        "#texto = archivo.read(50)\n",
        "#texto = archivo.readlines()\n",
        "#texto = archivo.readline()\n",
        "texto = archivo.read()\n",
        "estudiantes = {}\n",
        "print(texto.split('\\n'))\n",
        "for linea in texto.split('\\n'):\n",
        "    lista = linea.split(',')\n",
        "    estudiantes[lista[0]] = [float(lista[1]), int(lista[2])]\n",
        "estudiantes"
      ],
      "metadata": {
        "colab": {
          "base_uri": "https://localhost:8080/"
        },
        "id": "rnEouV58MXN1",
        "outputId": "5e2cacf1-8620-430d-d393-10828dd492dd"
      },
      "execution_count": 103,
      "outputs": [
        {
          "output_type": "stream",
          "name": "stdout",
          "text": [
            "['juan, 4.2, 2', 'maria, 3.1, 3', 'julio, 2.7, 3']\n"
          ]
        },
        {
          "output_type": "execute_result",
          "data": {
            "text/plain": [
              "{'juan': [4.2, 2], 'maria': [3.1, 3], 'julio': [2.7, 3]}"
            ]
          },
          "metadata": {},
          "execution_count": 103
        }
      ]
    },
    {
      "cell_type": "code",
      "source": [
        "archivo = open('prueba.txt', 'r')\n",
        "encabezado = archivo.readline()\n",
        "encabezado = archivo.readline()\n",
        "print()\n",
        "texto = archivo.read()\n",
        "estudiantes = {}\n",
        "for linea in archivo:\n",
        "    lista = linea.split(',')\n",
        "    estudiantes[lista[0]] = [float(lista[1]), int(lista[2])]\n",
        "estudiantes"
      ],
      "metadata": {
        "colab": {
          "base_uri": "https://localhost:8080/"
        },
        "id": "OvXWp45NS2fn",
        "outputId": "01dd6be0-9c56-4cf7-991a-b8ab7601d5d6"
      },
      "execution_count": 105,
      "outputs": [
        {
          "output_type": "execute_result",
          "data": {
            "text/plain": [
              "{}"
            ]
          },
          "metadata": {},
          "execution_count": 105
        }
      ]
    },
    {
      "cell_type": "code",
      "source": [
        "' '.join(lista)"
      ],
      "metadata": {
        "colab": {
          "base_uri": "https://localhost:8080/",
          "height": 141
        },
        "id": "kYnzdxV7Dn27",
        "outputId": "9c01271e-8aaa-4104-ea9e-824225efaaa3"
      },
      "execution_count": 54,
      "outputs": [
        {
          "output_type": "error",
          "ename": "NameError",
          "evalue": "name 'lista' is not defined",
          "traceback": [
            "\u001b[0;31m---------------------------------------------------------------------------\u001b[0m",
            "\u001b[0;31mNameError\u001b[0m                                 Traceback (most recent call last)",
            "\u001b[0;32m<ipython-input-54-4ac03870eb51>\u001b[0m in \u001b[0;36m<cell line: 1>\u001b[0;34m()\u001b[0m\n\u001b[0;32m----> 1\u001b[0;31m \u001b[0;34m' '\u001b[0m\u001b[0;34m.\u001b[0m\u001b[0mjoin\u001b[0m\u001b[0;34m(\u001b[0m\u001b[0mlista\u001b[0m\u001b[0;34m)\u001b[0m\u001b[0;34m\u001b[0m\u001b[0;34m\u001b[0m\u001b[0m\n\u001b[0m",
            "\u001b[0;31mNameError\u001b[0m: name 'lista' is not defined"
          ]
        }
      ]
    },
    {
      "cell_type": "markdown",
      "metadata": {
        "id": "9kx8bcOSA8R6"
      },
      "source": [
        "### Partir y unir una cadena\n",
        "\n",
        "Las funciones de __split__ y __join__ parten y unen una cadena respectivamente\n",
        "\n",
        "\n",
        "```python\n",
        "str1 = 'porque como poco coco como, poco coco compro'\n",
        "lst1 = str1.split(' ')                # partir cadena usando el caracter espacio\n",
        "print('lista1:', lst1)\n",
        "lst2 = str1.split(',')                # partir cadena usando el caracter espacio\n",
        "print('lista2:', lst2)\n",
        "str2 = ''.join(lst1)                  # función para unir a partir de un vector\n",
        "print(str2)\n",
        "\n",
        "```\n",
        "__nota:__\n",
        "Vuelva a generar una cadena a partir del vector, pero con espacios\n",
        "\n"
      ]
    },
    {
      "cell_type": "code",
      "source": [
        "texto = input('Ingrese los valores seperados por coma: ')\n",
        "lista_texto = texto.split(',')\n",
        "lista_numeros = [int(s) for s in lista_texto]\n",
        "lista_numeros, sum(lista_numeros)\n"
      ],
      "metadata": {
        "colab": {
          "base_uri": "https://localhost:8080/"
        },
        "id": "KfP7Zb26-6sc",
        "outputId": "0751fa90-f52d-4a75-948c-b01f7bf3b4d0"
      },
      "execution_count": 45,
      "outputs": [
        {
          "name": "stdout",
          "output_type": "stream",
          "text": [
            "Ingrese los valores seperados por coma: 45,10,5\n"
          ]
        },
        {
          "output_type": "execute_result",
          "data": {
            "text/plain": [
              "([45, 10, 5], 60)"
            ]
          },
          "metadata": {},
          "execution_count": 45
        }
      ]
    },
    {
      "cell_type": "code",
      "source": [
        "texto = input('íngrese valores:')\n",
        "sum([int(s) for s in texto.split(',')])"
      ],
      "metadata": {
        "colab": {
          "base_uri": "https://localhost:8080/"
        },
        "id": "qZyalHskAc-q",
        "outputId": "3120ab41-ff75-4eb9-9eb2-7d6916f9edb1"
      },
      "execution_count": 47,
      "outputs": [
        {
          "name": "stdout",
          "output_type": "stream",
          "text": [
            "íngrese valores:12,3,-10,5\n"
          ]
        },
        {
          "output_type": "execute_result",
          "data": {
            "text/plain": [
              "10"
            ]
          },
          "metadata": {},
          "execution_count": 47
        }
      ]
    },
    {
      "cell_type": "markdown",
      "metadata": {
        "id": "C6XUbHUlD4Qb"
      },
      "source": [
        "### Otro ejemplo de unir cadenas\n",
        "\n",
        "Utilizando la función __join()__ y la técnica de listas por comprensión\n",
        "\n",
        "```python\n",
        "str3 = ''.join(e+' ' for e in lst1)  # unir la cadena poniendo un espacio\n",
        "print(len(str1), str1)             \n",
        "print(len(str3), str3)\n",
        "print(str1 == str3)                 # comparar las dos cadenas\n",
        "```\n",
        "¿por qué no da igual?\n"
      ]
    },
    {
      "cell_type": "code",
      "metadata": {
        "id": "wSaf_hmXChcm"
      },
      "source": [
        "# Pruebe el código en esta celda"
      ],
      "execution_count": null,
      "outputs": []
    },
    {
      "cell_type": "markdown",
      "metadata": {
        "id": "Oe4QjFhCFSLN"
      },
      "source": [
        "### __Ejemplo:__ Gráfica de la longitud de las palabras\n",
        "\n",
        "Suponga que se quiere procesar una cadena para producir una gráfica de la longitud de las palabras que contiene. El siguiente código resuelve el problema, observe cada línea con cuidado e interprete su funcionamiento.\n",
        "\n",
        "```python\n",
        "lpal = [len(s) for s in str1.split(' ')]\n",
        "print(str1)\n",
        "print('longitud palabras: ', lpal)\n",
        "\n",
        "#generar el gráfico usando matplotlib\n",
        "import matplotlib.pyplot as plt\n",
        "# plot bar recibe valores de x, y\n",
        "plt.bar(list(range(len(lpal))), lpal)\n",
        "# cambia las etiquetas del eje X\n",
        "plt.xticks(list(range(len(lpal))), lst1)\n",
        "plt.xlabel('Palabras')\n",
        "plt.ylabel('Cantidad de letras')\n",
        "plt.title('TAMAÑO DE LAS PALABRAS')\n",
        "plt.grid()\n",
        "```\n",
        "\n",
        "### __Ejercicio:__\n",
        "\n",
        "1. Escriba una función que reciba una cadena de texto y que muestre una gráfica con el tamaño de las palabras\n",
        "2. Ingrese dos listas de números separados por coma y determine cual tiene un promedio mayor\n"
      ]
    },
    {
      "cell_type": "code",
      "metadata": {
        "id": "RAm7ALjiFvEo"
      },
      "source": [
        "# Pruebe el código en esta celda"
      ],
      "execution_count": null,
      "outputs": []
    },
    {
      "cell_type": "markdown",
      "metadata": {
        "id": "mewx4IsV6fC1"
      },
      "source": [
        "### __Buscar y reemplazar__\n",
        "\n",
        "\n",
        "```python\n",
        "# str1 viene de una celda de código de arriba\n",
        "print(str1.find('co'), str1)   # buscar la cadena 'co' en la frase\n",
        "\n",
        "# encontrar todas las ocurrencias de 'co' y ponerlas en un arreglo\n",
        "x = str1.find('co')\n",
        "ind = []\n",
        "while x != -1:\n",
        "    ind.append(x)\n",
        "    x = str1.find('co', x+1)   # se busca a partir del x+1 uno después del anterior\n",
        "print(ind)                     # imprime todos los índices donde aparece 'co'\n",
        "\n",
        "#verificamos la cuenta de 'co' en la frase\n",
        "print('Cuenta \"co\":', str1.count('co'))\n",
        "\n",
        "# ahora la idea es reemplazar 'co' por 'COS'\n",
        "str2 = str1.replace('co', 'COS')\n",
        "# que pasa si se busca y no hay ocurrencias?\n",
        "print(str2.find('de'), str2)\n",
        "\n",
        "```\n",
        "\n",
        "\n"
      ]
    },
    {
      "cell_type": "code",
      "metadata": {
        "id": "ecGLfJtE5rqR"
      },
      "source": [
        "# Pruebe el código en esta celda"
      ],
      "execution_count": null,
      "outputs": []
    },
    {
      "cell_type": "markdown",
      "metadata": {
        "id": "w2IR1RJyLDdi"
      },
      "source": [
        "#### Ejemplo 4. Detectar un subconjunto de caracteres\n",
        "\n",
        "Supongamos que tenemos la siguiente frase\n",
        "\n",
        "\n",
        "```python\n",
        "str1 = 'TOMÁS de niño, pidió públicamente perdón, disculpándose después muchísimo más Íntimamente.'\n",
        "```\n",
        "\n",
        "Ahora queremos buscar y reemplazar todos los caracteres especiales propios del español que están en el siguiente _string_\n",
        "\n",
        "\n",
        "```python\n",
        "stildes = 'áéíóúñÁÉÍÓÚÑ'\n",
        "```\n",
        "Se quiere contar cuántos caracteres de la segunda cadena hay en la primera\n",
        "\n",
        "\n",
        "\n",
        "```python\n",
        "str2 = ''.join('&' if c in stildes else c for c in str1)\n",
        "print(str2)\n",
        "```\n",
        "Ahora piense en otra forma de resolver el ejemplo anterior.\n",
        "\n",
        "\n",
        "\n"
      ]
    },
    {
      "cell_type": "code",
      "metadata": {
        "id": "uHfv7POjJyEm"
      },
      "source": [
        "# Pruebe el código en esta celda"
      ],
      "execution_count": null,
      "outputs": []
    },
    {
      "cell_type": "markdown",
      "metadata": {
        "id": "8ZxQTU-aVeDC"
      },
      "source": [
        "## __Ejercicio 1__\n",
        "\n",
        "Suponga que necesitamos una función, a la cual se le pasa una cadena texto, en donde se requiere que se cambie todos los caracteres espaciales que aparecen en una cadena por otros que los van a reemplazar. La función recibe:\n",
        "1. la cadena de texto a procesar,\n",
        "2. la cadena de caracteres especiales que queremos reemplazar\n",
        "3. la cadena de caracteres que van a reemplazar a los especiales\n",
        "\n",
        "La función retorna la primera cadena donde se cambia los caracteres especiales por los de reemplazo.\n",
        "\n",
        "_Ejemplo:_ si la función se llama reemplazo y se llama así:\n",
        "\n",
        "`reemplazo('Sí són éstos es fácil', 'áéíóú', 'aeiou')`\n",
        "\n",
        "retorna\n",
        "\n",
        "`Si son estos es facil`\n",
        "\n"
      ]
    },
    {
      "cell_type": "code",
      "metadata": {
        "id": "BLcM15USRH7c"
      },
      "source": [
        "# desarrollar el ejercicio en esta celda"
      ],
      "execution_count": null,
      "outputs": []
    },
    {
      "cell_type": "markdown",
      "metadata": {
        "id": "ZIv90jYgn-yh"
      },
      "source": [
        "### __Solución 1__\n",
        "\n",
        "Es importante que intente resolver el ejercicio por su cuenta. Una vez resuleto el ejercicio anterior, compare la solución propia frente a la solución que se propone a continuación usando listas por comprensión:\n",
        "\n",
        "\n",
        "\n",
        "```python\n",
        "def replaceSPA(cad, esp, rem):\n",
        "    s2 = ''.join(rem[esp.find(c)] if c in esp else c for c in cad)\n",
        "    return s2\n",
        "# ejemplo de uso\n",
        "ssym  = 'áéíóúüñÁÉÍÓÚÜÑ'\n",
        "srep  = 'aeiouunAEIOUUN'\n",
        "str1 = 'Angélica y María estudian Lingüística para NIÑOS'\n",
        "\n",
        "print(replaceSPA(str1, ssym, srep))\n",
        "```\n",
        "\n"
      ]
    },
    {
      "cell_type": "markdown",
      "metadata": {
        "id": "ybn2Fn08k4gk"
      },
      "source": [
        "### Resumen de Funciones para preguntar sobre el contenido del texto\n",
        "\n",
        "```python\n",
        "a = '1 o 5 the note of this course'\n",
        "# Verificar si la cadena inicia con un patrón\n",
        "a.startswith('1')\n",
        "# Verificar si la cadena termina con un patrón\n",
        "a.endswith('5')\n",
        "# Verificar si la cadena tiene un 'valor'\n",
        "'o' in a\n",
        "# Verificar si la cadena esta en mayúscula\n",
        "a.isupper()\n",
        "# Verificar si la cadena está en minúscula\n",
        "a.islower()\n",
        "# Verificar si la cadena esta en forma de Título\n",
        "a.istitle()\n",
        "# Verificar si la cadena está compuesta por solo caracteres\n",
        "a.isalpha()\n",
        "# Verificar si la cadena es de caracteres numéricos\n",
        "a.isdigit()\n",
        "# Verificar si la cadena se compone solo de caracteres alfa-numéricos\n",
        "a.isalnum()\n",
        "```"
      ]
    },
    {
      "cell_type": "code",
      "source": [
        "# Pruebe el código en esta celda"
      ],
      "metadata": {
        "id": "KOKmQIVBwXA8"
      },
      "execution_count": null,
      "outputs": []
    },
    {
      "cell_type": "markdown",
      "metadata": {
        "id": "vgB9iWtJkKHU"
      },
      "source": [
        "### Leer archivos de texto\n",
        "\n",
        "Los archivos de tipo texto se pueden leer en python de varias formas, por ejemplo\n",
        "* De un solo golpe, es decir, todo el texto,\n",
        "* Línea por línea, o\n",
        "* Una cantidad fija de caracteres\n",
        "\n",
        "Para esto, lo primero es crear un variable de tipo archivo con la ruta y nombre del archivo de texto. luego se puede leer de las formas descritas arriba.\n",
        "\n",
        "Antes de arrancar se debe crear el archivo: __`archivoTexto.txt`__\n",
        "\n",
        "#### Ejemplo 1: leer archivo de un solo golpe\n",
        "\n",
        "```python\n",
        "# abre archivo de texto en modo lectura y lo asigna a la variable 'pfile1'\n",
        "pfile1 = open('archivoTexto.txt', 'r')\n",
        "texto = pfile1.read()                  # lee todo el archivo completo\n",
        "print('tamaño total:', len(texto))     # imprime el tamaño del texto leido\n",
        "print('Texto del arhivo:\\n', texto)    # imprime el contenido del archivo\n",
        "pfile1.close()                         # cerrar el archivo\n",
        "```\n",
        "> Para poder ejecutar este ejemplo debe tener un archivo en la ruta actual del notebook con el nombre archivoTexto.txt. Aunque también puede cambiar el código para poner otra ruta y otro nombre de archivo que sea válido.\n"
      ]
    },
    {
      "cell_type": "code",
      "metadata": {
        "id": "pDuWrGsiiORV"
      },
      "source": [
        "# Pruebe el código en esta celda"
      ],
      "execution_count": null,
      "outputs": []
    },
    {
      "cell_type": "markdown",
      "metadata": {
        "id": "P5r5Dl47mfsL"
      },
      "source": [
        "#### __Ejemplo 2__\n",
        "\n",
        "Leer archivo de texto línea por línea\n",
        "\n",
        "\n",
        "```python\n",
        "# abre archivo de texto en modo lectura y lo asigna a la variable 'pfile2'\n",
        "pfile2 = open('archivoTexto.txt', 'r')\n",
        "for linea in pfile2:         # iterar por cada una de las líneas del archivo\n",
        "    print('--', linea)             # hacer algo con la línea... imprimirla\n",
        "pfile2.close()               # cerrar el archivo\n",
        "```\n",
        "> Para poder ejecutar este ejemplo debe tener un archivo en la ruta actual del notebook con el nombre archivoTexto.txt. Aunque también puede cambiar el código para poner otra ruta y otro nombre de archivo que sea válido.\n"
      ]
    },
    {
      "cell_type": "code",
      "metadata": {
        "id": "fCUfG49riPN8"
      },
      "source": [
        "# Pruebe el código en esta celda"
      ],
      "execution_count": null,
      "outputs": []
    },
    {
      "cell_type": "markdown",
      "metadata": {
        "id": "Q_Teib0tyy2w"
      },
      "source": [
        "#### __Ejemplo 3__\n",
        "Leer archivo de texto un tamaño fijo cada vez\n",
        "\n",
        "\n",
        "```python\n",
        "# abre archivo de texto en modo lectura y lo asigna a la variable 'pfile3'\n",
        "pfile3 = open('archivoTexto.txt', 'r')\n",
        "dato = pfile3.read(20)          # lee 20 caracteres (incluidos caracteres especiales)\n",
        "print(dato)\n",
        "\n",
        "```\n",
        "Cómo se sabe cuál es el tamaño de un archivo {__seek, tell__}\n",
        "\n",
        "```python\n",
        "pfile3.seek(0,2)                # moverse a el final del archivo\n",
        "size = pfile3.tell()            # leer la posición actual del archivo, es decir el tamaño\n",
        "print('El tamaño del archivo es:', size)\n",
        "```\n",
        "¿Cómo leer los últimos n caracteres de un archivo?\n",
        "\n",
        "```\n",
        "pfile3.seek(size-20,0)          # moverse a el final del archivo\n",
        "dato = pfile3.read(20)          # leer los últimos 20 caracteres del archivo\n",
        "print(size, dato)\n",
        "pfile3.close()                  # cerrar el archivo\n",
        "```\n",
        "> Para poder ejecutar este ejemplo debe tener un archivo en la ruta actual del notebook con el nombre archivoTexto.txt. Aunque también puede cambiar el código para poner otra ruta y otro nombre de archivo que sea válido.\n"
      ]
    },
    {
      "cell_type": "code",
      "metadata": {
        "id": "ijAyoo4gdSQL"
      },
      "source": [
        "# Pruebe el código en esta celda"
      ],
      "execution_count": null,
      "outputs": []
    },
    {
      "cell_type": "markdown",
      "metadata": {
        "id": "uwEN6UVTiYKE"
      },
      "source": [
        "## **Introducción a Minería de texto en _python_**\n",
        "\n",
        "Los siguientes ejemplos se utilizan en el contexto de procesamiento de cadenas de texto. Como siempre, la idea es probar las líneas de código una por una, hacerle modificaciones y seguir probando, y seguir aprendiendo.\n",
        "\n",
        "```python\n",
        "texto1 = 'El Infierno está lleno de buenas intenciones y el Cielo de buenas obras'\n",
        "# filtrar las palabras con más de 3 letras\n",
        "lst1 = texto1.split()\n",
        "w = []\n",
        "for word in lst1:\n",
        "    if len(word) > 5:\n",
        "        w.append(word)\n",
        "print(w)\n",
        "```\n",
        "Uso de la técnica de comprensión y las funciones __istitle() y endswith()__\n",
        "```python\n",
        "# 1. filtrar las palabras con más de 3 letras\n",
        "w = [word for word in texto1.split() if len(word) > 5]\n",
        "print(w)\n",
        "\n",
        "# 2. filtrar las palabras que inician en mayúscula\n",
        "w1 = [word for word in texto1.split() if word.istitle()]\n",
        "print(w1)\n",
        "\n",
        "# 3. filtrar las palabras que terminan en 's'\n",
        "w2 = [word for word in texto1.split() if word.endswith('s')]\n",
        "print(w2)\n",
        "\n",
        "```\n",
        "\n"
      ]
    },
    {
      "cell_type": "code",
      "metadata": {
        "id": "80vJ0kO8C0Bd"
      },
      "source": [
        "# Pruebe el código en esta celda"
      ],
      "execution_count": null,
      "outputs": []
    },
    {
      "cell_type": "markdown",
      "metadata": {
        "id": "81_bG01Tk1Nm"
      },
      "source": [
        "### Encontrar palabras únicas usando set()\n",
        "\n",
        "```python\n",
        "text3 = 'To be or not to be'\n",
        "text4 = text3.split(' ')\n",
        "print(text4)\n",
        "print(len(text4))\n",
        "\n",
        "w3 = set(text4)\n",
        "print(w3)\n",
        "print(len(w3))\n",
        "\n",
        "w4 = set([word.lower() for word in text4])\n",
        "print(w4)\n",
        "\n",
        "```\n"
      ]
    },
    {
      "cell_type": "code",
      "metadata": {
        "id": "iKE_glzPC2f9"
      },
      "source": [
        "# Pruebe el código en esta celda"
      ],
      "execution_count": null,
      "outputs": []
    },
    {
      "cell_type": "markdown",
      "metadata": {
        "id": "6foe5Pr3Ghxd"
      },
      "source": [
        "## __Ejercicio 2__\n",
        "\n",
        "Hay ciertas operaciones de verificación y de análisis del que se suelen usar. Resolver para los siguientes requerimientos:\n",
        "- Verificar si una cadena que representa el nombre de un archivo finaliza con la extensión \"pdf\". Ej: `nom = 'C:\\\\trabajo1.pdf'`\n",
        "- Verificar si una cadena que representa el correo de alguien está en minúscula. Ej: `correo = 'jvictorinog@ucentral.edu.co'`\n",
        "- Verficar si una cadena que representa un número solo tiene caracteres numéricos y por tanto se puede convertir a numérico sin problema. Ej: `x = \"18416\"`, `y = \"-707\"`, `z = \"-3.1416\"`\n",
        "- Verficar si una cadena que representa una frase está límpia de caracteres especiales, es decir que solo tiene caracteres alfanuméricos. Ej: `desc = \"El dólar se cotizó 4185, el máximo histórico`\n",
        "\n",
        "\n",
        "\n"
      ]
    },
    {
      "cell_type": "code",
      "metadata": {
        "id": "w1s0V5OfKYMX"
      },
      "source": [
        "# Pruebe el código en esta celda"
      ],
      "execution_count": null,
      "outputs": []
    },
    {
      "cell_type": "markdown",
      "metadata": {
        "id": "HRZJl3csqPGF"
      },
      "source": [
        "### __Solución 2__\n",
        "\n",
        "Antes de revisar la solución propuesta, resuelva el ejercicio anterior. Una vez resuelto, compare su solución frente a la propuesta.\n",
        "\n",
        "\n",
        "```python\n",
        "nom = 'C:\\\\trabajo1.pdf'\n",
        "ext = nom[-3:]\n",
        "print(ext)\n",
        "print(nom.endswith('pdf'))\n",
        "\n",
        "correo = 'jvictorinog@ucentral.edu.co'\n",
        "ind = correo.find('@')\n",
        "print('@' in correo)\n",
        "q = correo.count('@')\n",
        "print(ind, q, correo[ind])\n",
        "```\n",
        "\n"
      ]
    },
    {
      "cell_type": "markdown",
      "metadata": {
        "id": "IOvu6ykxk4d9"
      },
      "source": [
        "### Resumen de funciones que operan con cadenas\n",
        "\n",
        "```python\n",
        "b = '11111Sitting in on lectures: In general we are happy for guests to sit-in on lectures if they are a member of the Stanford community (registered student, staff, and/or faculty). \\n If the class is too full and we are running out of space, we ask that you please allow registered students to attend. Due to high enrollment, we cannot grade the work of any students who are not officially enrolled in the class.111'\n",
        "\n",
        "# convertir a mayúsculas\n",
        "b.upper()\n",
        "# convertir a minúsculas\n",
        "b.lower()\n",
        "# partir el texto por el caracter espacio ' '\n",
        "b.split(' ')\n",
        "# davuelve una lista con todas las líneas de una cadena.\n",
        "b.splitlines()\n",
        "# reune los caracteres de un arreglo de cadenas de texto\n",
        "s = \"-\";\n",
        "seq = (\"a\", \"b\", \"c\");\n",
        "print(s.join(seq))\n",
        "# devuelve una copia de la cadena en la cual se han eliminado todos los caracteres del final de la cadena (si omite el parámetro se eliminarán los espacios en blanco).\n",
        "x = b.rstrip('1')\n",
        "print(x)\n",
        "# Devuelve una copia de la cadena en la cual todos los caracteres del inicio y del final han sido eliminados de la misma (si omite el parámetro se eliminarán los espacios en blanco)\n",
        "y = b.strip('1')\n",
        "print(y)\n",
        "\n",
        "```\n"
      ]
    },
    {
      "cell_type": "code",
      "metadata": {
        "id": "FEOHGHVVC44t"
      },
      "source": [
        "# Pruebe el código en esta celda"
      ],
      "execution_count": null,
      "outputs": []
    },
    {
      "cell_type": "markdown",
      "metadata": {
        "id": "IIz8CqjFk4Zk"
      },
      "source": [
        "### Convertir texto a lista de caracteres\n",
        "\n",
        "```python\n",
        "\n",
        "text5 = 'If the class is too full and we are running out of space'\n",
        "list(text5)\n",
        "\n",
        "```\n"
      ]
    },
    {
      "cell_type": "code",
      "metadata": {
        "id": "wk_84gPRqahP"
      },
      "source": [
        "# Pruebe el código en esta celda"
      ],
      "execution_count": null,
      "outputs": []
    },
    {
      "cell_type": "markdown",
      "metadata": {
        "id": "hc1oUyHTk4P2"
      },
      "source": [
        "# TALLER PRÁCTICO\n",
        "---\n",
        "El __objetivo__ de esta práctica es desarrollar los ejercicios con los conocimiento que se han visto en el curso hasta el momento. La idea no es usar todavía librerías para minería de texto.El trabajo esta diseñado para hacerlo en grupo, en donde la idea es compartir los conocimientos para que todos los integranetes del puedad comprender una solución final a una problemática.\n",
        "\n",
        "Para esta práctica se entregan dos archivos de texto:\n",
        "* __fragmento.txt__ corresponde a un archivo que tiene un fragmento del libro de 100 años de soledad\n",
        "* __stopWordsSPA.txt__ Corresponde a un listado de las palabras, las cuales carecen de significado por si solas. En general la lista la componen los: artículos, preposiciones, conjunciones, pronombres, etc.\n",
        "\n",
        "Por favor usar diferentes bloques de código para resolver cada uno de los ejercicios. La idea es volver a usar los bloques en código en los diferentes ejercicios.\n"
      ]
    },
    {
      "cell_type": "markdown",
      "metadata": {
        "id": "TWzkHpkAk30c"
      },
      "source": [
        "### 1. Contar\n",
        "La idea de este ejercicio es leer dos archivos de texto que se entregaron _fragmentos.txt_ y _stopWordsSPA.txt_ y contar: carácteres, palabras y frases que tienen. Una vez lo resuelva escríbalo en forma de función (def)\n",
        "\n",
        "\n",
        "```python\n",
        "pf = open('fragmento.txt', 'r')\n",
        "texto = pf.read()\n",
        "fpal = texto.split()\n",
        "ffra = texto.split('.')\n",
        "print(len(texto), len(fpal), len(ffra))\n",
        "\n",
        "```\n",
        "\n",
        "\n"
      ]
    },
    {
      "cell_type": "code",
      "metadata": {
        "id": "rClNgdZ08GJF"
      },
      "source": [
        "# resuelva aquí el punto 1:"
      ],
      "execution_count": null,
      "outputs": []
    },
    {
      "cell_type": "markdown",
      "metadata": {
        "id": "biFlbxPW8tUF"
      },
      "source": [
        "### 2. Buscar\n",
        "La idea en este ejercicio es buscar la palabra 'todo' en el archivo _fragmento.txt_. Generar una lista con las posiciones en el texto en donde aparece la palabra dada. Contar cuantas veces aparece la palabra sola (completa) y cuántas veces aparece acompañada (como parte de otra palabra). Al final generar una función (def) que recibe como parámetro el archivo y la palabra, y la función retorna la lista de posiciones y la cantidad de veces que aparece sola y la cantidad de veces que aparece dentro de otra palabra.\n",
        "\n",
        "_Resultados:_\n",
        "\n",
        "```\n",
        "Indice   Palabra   \t Modo  \t\tcuenta\n",
        "505      Todos    \t dentro  \t(1)\n",
        "1014 \t todo    \t completa  \t(1)\n",
        "1479 \t todo    \t completa  \t(2)\n",
        "6443 \t método    \t dentro  \t(2)\n",
        "8050 \t todos    \t dentro  \t(3)\n",
        "12778\t todo    \t completa  \t(3)\n",
        "13635\t todo    \t completa  \t(4)\n",
        "14648\t todo    \t completa  \t(5)\n",
        "15323\t todos    \t dentro  \t(4)\n",
        "15842\t todo    \t completa  \t(6)\n",
        "17474\t todo    \t completa  \t(7)\n",
        "18315\t todos    \t dentro  \t(5)\n",
        "30742\t todos    \t dentro  \t(6)\n",
        "39601\t todos    \t dentro  \t(7)\n",
        "44842\t todos    \t dentro  \t(8)\n",
        "47843\t todo    \t completa  \t(8)\n",
        "48201\t todo    \t completa  \t(9)\n",
        "49715\t todo    \t completa  \t(10)\n",
        "51219\t todos    \t dentro  \t(9)\n",
        "Total palabras encontradas: 19\n",
        "- Palabra: 'todo' completa: 10 veces\n",
        "- Palabra: 'todo' dentro de otras palabras: 9 veces\n",
        "```\n"
      ]
    },
    {
      "cell_type": "code",
      "metadata": {
        "id": "c9tsgFnI-bYw"
      },
      "source": [
        "# resuelva aquí el punto 2:"
      ],
      "execution_count": null,
      "outputs": []
    },
    {
      "cell_type": "markdown",
      "metadata": {
        "id": "X14waos6-j5b"
      },
      "source": [
        "### 3. Signos de puntuación\n",
        "> - Determinar en el archivo _fragmento.txt_ cuáles son los signos de puntuación que se usan y cuántos son.\n",
        "\n"
      ]
    },
    {
      "cell_type": "code",
      "metadata": {
        "id": "qJ87ll_bA7mk"
      },
      "source": [
        "# resuelva aquí el punto 3:"
      ],
      "execution_count": null,
      "outputs": []
    },
    {
      "cell_type": "markdown",
      "metadata": {
        "id": "YAHZ1BiFANAE"
      },
      "source": [
        "### 4. Buscar en conjunto\n",
        "Buscar todas las 'stop words' en el archivo _fragmento.txt_ y **contarlas**. Las stop words son las palabras que aparecen en el archivo llamado _stopWordsSPA.txt_. Escribirlo en forma de función (def) que recibe como parámetros los dos archivos y devuelve el conteo."
      ]
    },
    {
      "cell_type": "code",
      "metadata": {
        "id": "qhx727VeALB-"
      },
      "source": [
        "# resuelva aquí el punto 4:"
      ],
      "execution_count": null,
      "outputs": []
    },
    {
      "cell_type": "markdown",
      "metadata": {
        "id": "OA2wXCB9A_UY"
      },
      "source": [
        "### 5. Ranking de palabras\n",
        "Con el archivo _fragmento.txt_ genere un conteo de la frecuencia de cada una de las palabras, excepto las que aparecen en _stopWordsSPA.txt_. Luego determine el Top 20 de las palabras más usadas en el documento. Finalmente, con las 20 palabras que más aparecen haga una gráfica de pulsos o de barras.\n"
      ]
    },
    {
      "cell_type": "code",
      "metadata": {
        "id": "-Y9YfLH4BweU"
      },
      "source": [
        "# resuelva aquí el punto 5:"
      ],
      "execution_count": null,
      "outputs": []
    }
  ]
}